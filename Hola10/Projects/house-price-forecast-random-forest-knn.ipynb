{
 "cells": [
  {
   "cell_type": "markdown",
   "id": "32391eca",
   "metadata": {
    "papermill": {
     "duration": 0.019157,
     "end_time": "2024-07-26T07:48:10.289282",
     "exception": false,
     "start_time": "2024-07-26T07:48:10.270125",
     "status": "completed"
    },
    "tags": []
   },
   "source": [
    "I want to predict housing prices using data features (other than price), using machine learning methods. For this, I have taken a little help from the methods used in the following notebook.\n",
    "\n",
    "- https://www.kaggle.com/code/raoofiali/divar-housing-adv\n",
    "\n",
    "\n",
    "To predict the price, we go through the following steps:"
   ]
  },
  {
   "cell_type": "markdown",
   "id": "2139f473",
   "metadata": {
    "papermill": {
     "duration": 0.01863,
     "end_time": "2024-07-26T07:48:10.326079",
     "exception": false,
     "start_time": "2024-07-26T07:48:10.307449",
     "status": "completed"
    },
    "tags": []
   },
   "source": [
    "## Import Libraries"
   ]
  },
  {
   "cell_type": "code",
   "execution_count": 1,
   "id": "2b8edd24",
   "metadata": {
    "execution": {
     "iopub.execute_input": "2024-07-26T07:48:10.363532Z",
     "iopub.status.busy": "2024-07-26T07:48:10.363214Z",
     "iopub.status.idle": "2024-07-26T07:48:24.119831Z",
     "shell.execute_reply": "2024-07-26T07:48:24.118669Z"
    },
    "papermill": {
     "duration": 13.778017,
     "end_time": "2024-07-26T07:48:24.122154",
     "exception": false,
     "start_time": "2024-07-26T07:48:10.344137",
     "status": "completed"
    },
    "tags": []
   },
   "outputs": [
    {
     "name": "stdout",
     "output_type": "stream",
     "text": [
      "Collecting arabic_reshaper\r\n",
      "  Downloading arabic_reshaper-3.0.0-py3-none-any.whl.metadata (12 kB)\r\n",
      "Downloading arabic_reshaper-3.0.0-py3-none-any.whl (20 kB)\r\n",
      "Installing collected packages: arabic_reshaper\r\n",
      "Successfully installed arabic_reshaper-3.0.0\r\n",
      "Note: you may need to restart the kernel to use updated packages.\n"
     ]
    }
   ],
   "source": [
    "pip install arabic_reshaper"
   ]
  },
  {
   "cell_type": "code",
   "execution_count": 2,
   "id": "123f8531",
   "metadata": {
    "execution": {
     "iopub.execute_input": "2024-07-26T07:48:24.164422Z",
     "iopub.status.busy": "2024-07-26T07:48:24.164101Z",
     "iopub.status.idle": "2024-07-26T07:48:26.362038Z",
     "shell.execute_reply": "2024-07-26T07:48:26.361267Z"
    },
    "papermill": {
     "duration": 2.221378,
     "end_time": "2024-07-26T07:48:26.364353",
     "exception": false,
     "start_time": "2024-07-26T07:48:24.142975",
     "status": "completed"
    },
    "tags": []
   },
   "outputs": [],
   "source": [
    "%matplotlib inline\n",
    "import numpy as np\n",
    "import pandas as pd\n",
    "import matplotlib.pyplot as plt\n",
    "import seaborn as sns\n",
    "import sklearn\n",
    "import re\n",
    "import arabic_reshaper\n",
    "from bidi.algorithm import get_display\n",
    "\n",
    "from sklearn.preprocessing import StandardScaler\n",
    "\n",
    "from sklearn.model_selection import cross_val_score\n",
    "from sklearn.model_selection import KFold\n",
    "from sklearn.model_selection import GridSearchCV\n",
    "\n",
    "from sklearn.metrics import mean_squared_error, r2_score\n",
    "\n",
    "from sklearn.model_selection import train_test_split\n",
    "from sklearn.ensemble import RandomForestRegressor\n",
    "from sklearn.neighbors import KNeighborsRegressor\n",
    "from sklearn import metrics\n",
    "\n",
    "import warnings\n",
    "warnings.filterwarnings('ignore')\n",
    "import os"
   ]
  },
  {
   "cell_type": "markdown",
   "id": "1a382a8a",
   "metadata": {
    "papermill": {
     "duration": 0.018652,
     "end_time": "2024-07-26T07:48:26.401590",
     "exception": false,
     "start_time": "2024-07-26T07:48:26.382938",
     "status": "completed"
    },
    "tags": []
   },
   "source": [
    "## Load and Prepare Data"
   ]
  },
  {
   "cell_type": "code",
   "execution_count": 3,
   "id": "ed417745",
   "metadata": {
    "execution": {
     "iopub.execute_input": "2024-07-26T07:48:26.439986Z",
     "iopub.status.busy": "2024-07-26T07:48:26.439244Z",
     "iopub.status.idle": "2024-07-26T07:48:26.449492Z",
     "shell.execute_reply": "2024-07-26T07:48:26.448544Z"
    },
    "papermill": {
     "duration": 0.031358,
     "end_time": "2024-07-26T07:48:26.451500",
     "exception": false,
     "start_time": "2024-07-26T07:48:26.420142",
     "status": "completed"
    },
    "tags": []
   },
   "outputs": [
    {
     "name": "stdout",
     "output_type": "stream",
     "text": [
      "/kaggle/input/divar-house-adv-dataset/housing-Raoofi.csv\n"
     ]
    }
   ],
   "source": [
    "for dirname, _, filenames in os.walk('/kaggle/input'):\n",
    "    for filename in filenames:\n",
    "        print(os.path.join(dirname, filename))"
   ]
  },
  {
   "cell_type": "code",
   "execution_count": 4,
   "id": "29c539c6",
   "metadata": {
    "execution": {
     "iopub.execute_input": "2024-07-26T07:48:26.490034Z",
     "iopub.status.busy": "2024-07-26T07:48:26.489758Z",
     "iopub.status.idle": "2024-07-26T07:48:26.840277Z",
     "shell.execute_reply": "2024-07-26T07:48:26.839354Z"
    },
    "papermill": {
     "duration": 0.371998,
     "end_time": "2024-07-26T07:48:26.842306",
     "exception": false,
     "start_time": "2024-07-26T07:48:26.470308",
     "status": "completed"
    },
    "tags": []
   },
   "outputs": [
    {
     "data": {
      "text/html": [
       "<div>\n",
       "<style scoped>\n",
       "    .dataframe tbody tr th:only-of-type {\n",
       "        vertical-align: middle;\n",
       "    }\n",
       "\n",
       "    .dataframe tbody tr th {\n",
       "        vertical-align: top;\n",
       "    }\n",
       "\n",
       "    .dataframe thead th {\n",
       "        text-align: right;\n",
       "    }\n",
       "</style>\n",
       "<table border=\"1\" class=\"dataframe\">\n",
       "  <thead>\n",
       "    <tr style=\"text-align: right;\">\n",
       "      <th></th>\n",
       "      <th>Area</th>\n",
       "      <th>Construction</th>\n",
       "      <th>Room</th>\n",
       "      <th>Warehouse</th>\n",
       "      <th>Parking</th>\n",
       "      <th>Elevator</th>\n",
       "      <th>Address</th>\n",
       "      <th>Price</th>\n",
       "    </tr>\n",
       "  </thead>\n",
       "  <tbody>\n",
       "    <tr>\n",
       "      <th>0</th>\n",
       "      <td>153</td>\n",
       "      <td>1393</td>\n",
       "      <td>3</td>\n",
       "      <td>True</td>\n",
       "      <td>True</td>\n",
       "      <td>True</td>\n",
       "      <td>۱ ساعت پیش در تهران، درکه</td>\n",
       "      <td>۱۸٬۳۶۰٬۰۰۰٬۰۰۰ تومان</td>\n",
       "    </tr>\n",
       "    <tr>\n",
       "      <th>1</th>\n",
       "      <td>418</td>\n",
       "      <td>1382</td>\n",
       "      <td>4</td>\n",
       "      <td>True</td>\n",
       "      <td>True</td>\n",
       "      <td>True</td>\n",
       "      <td>۱ ساعت پیش در تهران، زعفرانیه</td>\n",
       "      <td>۱۳۰٬۰۰۰٬۰۰۰٬۰۰۰ تومان</td>\n",
       "    </tr>\n",
       "    <tr>\n",
       "      <th>2</th>\n",
       "      <td>57</td>\n",
       "      <td>1385</td>\n",
       "      <td>2</td>\n",
       "      <td>False</td>\n",
       "      <td>False</td>\n",
       "      <td>True</td>\n",
       "      <td>۱ ساعت پیش در تهران، جابری</td>\n",
       "      <td>۲٬۶۰۰٬۰۰۰٬۰۰۰ تومان</td>\n",
       "    </tr>\n",
       "    <tr>\n",
       "      <th>3</th>\n",
       "      <td>193</td>\n",
       "      <td>1371</td>\n",
       "      <td>3</td>\n",
       "      <td>False</td>\n",
       "      <td>False</td>\n",
       "      <td>True</td>\n",
       "      <td>۱ ساعت پیش در تهران، فرمانیه</td>\n",
       "      <td>۲۳٬۰۰۰٬۰۰۰٬۰۰۰ تومان</td>\n",
       "    </tr>\n",
       "    <tr>\n",
       "      <th>4</th>\n",
       "      <td>62</td>\n",
       "      <td>1401</td>\n",
       "      <td>1</td>\n",
       "      <td>True</td>\n",
       "      <td>True</td>\n",
       "      <td>True</td>\n",
       "      <td>۱ ساعت پیش در تهران، دهکده المپیک، بزرگراه همت...</td>\n",
       "      <td>۱٬۴۱۰٬۰۰۰٬۰۰۰ تومان</td>\n",
       "    </tr>\n",
       "  </tbody>\n",
       "</table>\n",
       "</div>"
      ],
      "text/plain": [
       "  Area Construction Room Warehouse Parking Elevator  \\\n",
       "0  153         1393    3      True    True     True   \n",
       "1  418         1382    4      True    True     True   \n",
       "2   57         1385    2     False   False     True   \n",
       "3  193         1371    3     False   False     True   \n",
       "4   62         1401    1      True    True     True   \n",
       "\n",
       "                                             Address                  Price  \n",
       "0                          ۱ ساعت پیش در تهران، درکه   ۱۸٬۳۶۰٬۰۰۰٬۰۰۰ تومان  \n",
       "1                      ۱ ساعت پیش در تهران، زعفرانیه  ۱۳۰٬۰۰۰٬۰۰۰٬۰۰۰ تومان  \n",
       "2                         ۱ ساعت پیش در تهران، جابری    ۲٬۶۰۰٬۰۰۰٬۰۰۰ تومان  \n",
       "3                       ۱ ساعت پیش در تهران، فرمانیه   ۲۳٬۰۰۰٬۰۰۰٬۰۰۰ تومان  \n",
       "4  ۱ ساعت پیش در تهران، دهکده المپیک، بزرگراه همت...    ۱٬۴۱۰٬۰۰۰٬۰۰۰ تومان  "
      ]
     },
     "execution_count": 4,
     "metadata": {},
     "output_type": "execute_result"
    }
   ],
   "source": [
    "Housing_data = pd.read_csv('/kaggle/input/divar-house-adv-dataset/housing-Raoofi.csv')\n",
    "Housing_data.head()"
   ]
  },
  {
   "cell_type": "code",
   "execution_count": 5,
   "id": "ea7d24f9",
   "metadata": {
    "execution": {
     "iopub.execute_input": "2024-07-26T07:48:26.880799Z",
     "iopub.status.busy": "2024-07-26T07:48:26.880480Z",
     "iopub.status.idle": "2024-07-26T07:48:26.885930Z",
     "shell.execute_reply": "2024-07-26T07:48:26.885084Z"
    },
    "papermill": {
     "duration": 0.026612,
     "end_time": "2024-07-26T07:48:26.887875",
     "exception": false,
     "start_time": "2024-07-26T07:48:26.861263",
     "status": "completed"
    },
    "tags": []
   },
   "outputs": [
    {
     "data": {
      "text/plain": [
       "(94036, 8)"
      ]
     },
     "execution_count": 5,
     "metadata": {},
     "output_type": "execute_result"
    }
   ],
   "source": [
    "Housing_data.shape"
   ]
  },
  {
   "cell_type": "markdown",
   "id": "b8dacca2",
   "metadata": {
    "papermill": {
     "duration": 0.018193,
     "end_time": "2024-07-26T07:48:26.924648",
     "exception": false,
     "start_time": "2024-07-26T07:48:26.906455",
     "status": "completed"
    },
    "tags": []
   },
   "source": [
    "## PreProcessing _ Part 1"
   ]
  },
  {
   "cell_type": "markdown",
   "id": "6b4565a8",
   "metadata": {
    "papermill": {
     "duration": 0.018211,
     "end_time": "2024-07-26T07:48:26.961303",
     "exception": false,
     "start_time": "2024-07-26T07:48:26.943092",
     "status": "completed"
    },
    "tags": []
   },
   "source": [
    "One of the important steps in data analysis and modeling by machine learning is data preprocessing, which can be done before or after EDA. In this project, we do this step in two parts before and after EDA because it is necessary to make changes to the model for better understanding of the model and visualization. We will do the rest of the preprocessing after rendering and before training the model."
   ]
  },
  {
   "cell_type": "code",
   "execution_count": 6,
   "id": "c71362c9",
   "metadata": {
    "execution": {
     "iopub.execute_input": "2024-07-26T07:48:26.999840Z",
     "iopub.status.busy": "2024-07-26T07:48:26.999535Z",
     "iopub.status.idle": "2024-07-26T07:48:27.087742Z",
     "shell.execute_reply": "2024-07-26T07:48:27.086729Z"
    },
    "papermill": {
     "duration": 0.109782,
     "end_time": "2024-07-26T07:48:27.089754",
     "exception": false,
     "start_time": "2024-07-26T07:48:26.979972",
     "status": "completed"
    },
    "tags": []
   },
   "outputs": [
    {
     "name": "stdout",
     "output_type": "stream",
     "text": [
      "<class 'pandas.core.frame.DataFrame'>\n",
      "RangeIndex: 94036 entries, 0 to 94035\n",
      "Data columns (total 8 columns):\n",
      " #   Column        Non-Null Count  Dtype \n",
      "---  ------        --------------  ----- \n",
      " 0   Area          94036 non-null  object\n",
      " 1   Construction  94036 non-null  object\n",
      " 2   Room          94036 non-null  object\n",
      " 3   Warehouse     94036 non-null  object\n",
      " 4   Parking       94036 non-null  object\n",
      " 5   Elevator      94036 non-null  object\n",
      " 6   Address       94036 non-null  object\n",
      " 7   Price         94036 non-null  object\n",
      "dtypes: object(8)\n",
      "memory usage: 5.7+ MB\n"
     ]
    }
   ],
   "source": [
    "Housing_data.info()"
   ]
  },
  {
   "cell_type": "code",
   "execution_count": 7,
   "id": "f732a691",
   "metadata": {
    "execution": {
     "iopub.execute_input": "2024-07-26T07:48:27.129514Z",
     "iopub.status.busy": "2024-07-26T07:48:27.128668Z",
     "iopub.status.idle": "2024-07-26T07:48:27.159867Z",
     "shell.execute_reply": "2024-07-26T07:48:27.158946Z"
    },
    "papermill": {
     "duration": 0.053282,
     "end_time": "2024-07-26T07:48:27.161911",
     "exception": false,
     "start_time": "2024-07-26T07:48:27.108629",
     "status": "completed"
    },
    "tags": []
   },
   "outputs": [
    {
     "data": {
      "text/html": [
       "<div>\n",
       "<style scoped>\n",
       "    .dataframe tbody tr th:only-of-type {\n",
       "        vertical-align: middle;\n",
       "    }\n",
       "\n",
       "    .dataframe tbody tr th {\n",
       "        vertical-align: top;\n",
       "    }\n",
       "\n",
       "    .dataframe thead th {\n",
       "        text-align: right;\n",
       "    }\n",
       "</style>\n",
       "<table border=\"1\" class=\"dataframe\">\n",
       "  <thead>\n",
       "    <tr style=\"text-align: right;\">\n",
       "      <th></th>\n",
       "      <th>Area</th>\n",
       "      <th>Construction</th>\n",
       "      <th>Room</th>\n",
       "      <th>Warehouse</th>\n",
       "      <th>Parking</th>\n",
       "      <th>Elevator</th>\n",
       "      <th>Address</th>\n",
       "      <th>Price</th>\n",
       "    </tr>\n",
       "  </thead>\n",
       "  <tbody>\n",
       "    <tr>\n",
       "      <th>295</th>\n",
       "      <td>80</td>\n",
       "      <td>1399</td>\n",
       "      <td>2</td>\n",
       "      <td>True</td>\n",
       "      <td>True</td>\n",
       "      <td>True</td>\n",
       "      <td>۱ ساعت پیش در تهران، اقدسیه</td>\n",
       "      <td>توافقی</td>\n",
       "    </tr>\n",
       "    <tr>\n",
       "      <th>704</th>\n",
       "      <td>72</td>\n",
       "      <td>1401</td>\n",
       "      <td>2</td>\n",
       "      <td>True</td>\n",
       "      <td>True</td>\n",
       "      <td>True</td>\n",
       "      <td>۲ ساعت پیش در تهران، مبارک‌آباد بهشتی</td>\n",
       "      <td>توافقی</td>\n",
       "    </tr>\n",
       "    <tr>\n",
       "      <th>874</th>\n",
       "      <td>460</td>\n",
       "      <td>1401</td>\n",
       "      <td>4</td>\n",
       "      <td>True</td>\n",
       "      <td>True</td>\n",
       "      <td>True</td>\n",
       "      <td>۲ ساعت پیش در تهران، الهیه</td>\n",
       "      <td>توافقی</td>\n",
       "    </tr>\n",
       "    <tr>\n",
       "      <th>881</th>\n",
       "      <td>935</td>\n",
       "      <td>1400</td>\n",
       "      <td>4</td>\n",
       "      <td>True</td>\n",
       "      <td>True</td>\n",
       "      <td>True</td>\n",
       "      <td>۲ ساعت پیش در تهران، الهیه</td>\n",
       "      <td>توافقی</td>\n",
       "    </tr>\n",
       "    <tr>\n",
       "      <th>900</th>\n",
       "      <td>418</td>\n",
       "      <td>1401</td>\n",
       "      <td>4</td>\n",
       "      <td>True</td>\n",
       "      <td>True</td>\n",
       "      <td>True</td>\n",
       "      <td>۲ ساعت پیش در تهران، الهیه</td>\n",
       "      <td>توافقی</td>\n",
       "    </tr>\n",
       "    <tr>\n",
       "      <th>...</th>\n",
       "      <td>...</td>\n",
       "      <td>...</td>\n",
       "      <td>...</td>\n",
       "      <td>...</td>\n",
       "      <td>...</td>\n",
       "      <td>...</td>\n",
       "      <td>...</td>\n",
       "      <td>...</td>\n",
       "    </tr>\n",
       "    <tr>\n",
       "      <th>88099</th>\n",
       "      <td>120</td>\n",
       "      <td>1400</td>\n",
       "      <td>2</td>\n",
       "      <td>True</td>\n",
       "      <td>True</td>\n",
       "      <td>True</td>\n",
       "      <td>۲ هفته پیش در تهران، سعادت‌آباد</td>\n",
       "      <td>توافقی</td>\n",
       "    </tr>\n",
       "    <tr>\n",
       "      <th>88513</th>\n",
       "      <td>100</td>\n",
       "      <td>1401</td>\n",
       "      <td>2</td>\n",
       "      <td>True</td>\n",
       "      <td>True</td>\n",
       "      <td>True</td>\n",
       "      <td>۲ هفته پیش در تهران، چیتگر</td>\n",
       "      <td>توافقی</td>\n",
       "    </tr>\n",
       "    <tr>\n",
       "      <th>88624</th>\n",
       "      <td>160</td>\n",
       "      <td>1395</td>\n",
       "      <td>3</td>\n",
       "      <td>True</td>\n",
       "      <td>True</td>\n",
       "      <td>True</td>\n",
       "      <td>۳ روز پیش در تهران، مرزداران</td>\n",
       "      <td>توافقی</td>\n",
       "    </tr>\n",
       "    <tr>\n",
       "      <th>91441</th>\n",
       "      <td>360</td>\n",
       "      <td>1400</td>\n",
       "      <td>4</td>\n",
       "      <td>True</td>\n",
       "      <td>True</td>\n",
       "      <td>True</td>\n",
       "      <td>۲ هفته پیش در تهران، پاسداران</td>\n",
       "      <td>توافقی</td>\n",
       "    </tr>\n",
       "    <tr>\n",
       "      <th>92095</th>\n",
       "      <td>200</td>\n",
       "      <td>1400</td>\n",
       "      <td>3</td>\n",
       "      <td>True</td>\n",
       "      <td>True</td>\n",
       "      <td>True</td>\n",
       "      <td>۲ روز پیش در تهران، فرمانیه</td>\n",
       "      <td>توافقی</td>\n",
       "    </tr>\n",
       "  </tbody>\n",
       "</table>\n",
       "<p>245 rows × 8 columns</p>\n",
       "</div>"
      ],
      "text/plain": [
       "      Area Construction Room Warehouse Parking Elevator  \\\n",
       "295     80         1399    2      True    True     True   \n",
       "704     72         1401    2      True    True     True   \n",
       "874    460         1401    4      True    True     True   \n",
       "881    935         1400    4      True    True     True   \n",
       "900    418         1401    4      True    True     True   \n",
       "...    ...          ...  ...       ...     ...      ...   \n",
       "88099  120         1400    2      True    True     True   \n",
       "88513  100         1401    2      True    True     True   \n",
       "88624  160         1395    3      True    True     True   \n",
       "91441  360         1400    4      True    True     True   \n",
       "92095  200         1400    3      True    True     True   \n",
       "\n",
       "                                     Address   Price  \n",
       "295              ۱ ساعت پیش در تهران، اقدسیه  توافقی  \n",
       "704    ۲ ساعت پیش در تهران، مبارک‌آباد بهشتی  توافقی  \n",
       "874               ۲ ساعت پیش در تهران، الهیه  توافقی  \n",
       "881               ۲ ساعت پیش در تهران، الهیه  توافقی  \n",
       "900               ۲ ساعت پیش در تهران، الهیه  توافقی  \n",
       "...                                      ...     ...  \n",
       "88099        ۲ هفته پیش در تهران، سعادت‌آباد  توافقی  \n",
       "88513             ۲ هفته پیش در تهران، چیتگر  توافقی  \n",
       "88624           ۳ روز پیش در تهران، مرزداران  توافقی  \n",
       "91441          ۲ هفته پیش در تهران، پاسداران  توافقی  \n",
       "92095            ۲ روز پیش در تهران، فرمانیه  توافقی  \n",
       "\n",
       "[245 rows x 8 columns]"
      ]
     },
     "execution_count": 7,
     "metadata": {},
     "output_type": "execute_result"
    }
   ],
   "source": [
    "Housing_data[Housing_data['Price']=='توافقی']"
   ]
  },
  {
   "cell_type": "code",
   "execution_count": 8,
   "id": "2705905c",
   "metadata": {
    "execution": {
     "iopub.execute_input": "2024-07-26T07:48:27.202731Z",
     "iopub.status.busy": "2024-07-26T07:48:27.201933Z",
     "iopub.status.idle": "2024-07-26T07:48:27.206432Z",
     "shell.execute_reply": "2024-07-26T07:48:27.205711Z"
    },
    "papermill": {
     "duration": 0.026208,
     "end_time": "2024-07-26T07:48:27.208221",
     "exception": false,
     "start_time": "2024-07-26T07:48:27.182013",
     "status": "completed"
    },
    "tags": []
   },
   "outputs": [],
   "source": [
    "def clean_price(price):\n",
    "    if 'تومان' in price:\n",
    "        return int(price.replace('تومان', '').replace('٬', '').strip())\n",
    "    return None"
   ]
  },
  {
   "cell_type": "code",
   "execution_count": 9,
   "id": "8e1e4031",
   "metadata": {
    "execution": {
     "iopub.execute_input": "2024-07-26T07:48:27.247636Z",
     "iopub.status.busy": "2024-07-26T07:48:27.247116Z",
     "iopub.status.idle": "2024-07-26T07:48:27.414900Z",
     "shell.execute_reply": "2024-07-26T07:48:27.413976Z"
    },
    "papermill": {
     "duration": 0.189731,
     "end_time": "2024-07-26T07:48:27.417254",
     "exception": false,
     "start_time": "2024-07-26T07:48:27.227523",
     "status": "completed"
    },
    "tags": []
   },
   "outputs": [],
   "source": [
    "Housing_data['Price'] = Housing_data['Price'].apply(clean_price)\n",
    "Housing_data = Housing_data.dropna(subset=['Price'])\n",
    "Housing_data.reset_index(drop=True, inplace=True)"
   ]
  },
  {
   "cell_type": "markdown",
   "id": "4f2623dc",
   "metadata": {
    "papermill": {
     "duration": 0.018958,
     "end_time": "2024-07-26T07:48:27.455223",
     "exception": false,
     "start_time": "2024-07-26T07:48:27.436265",
     "status": "completed"
    },
    "tags": []
   },
   "source": [
    "For the address column, it is necessary to remove the time of uploading the ad, as well as the more detailed part of the address, and only place the name of the neighborhood in the correct form."
   ]
  },
  {
   "cell_type": "code",
   "execution_count": 10,
   "id": "8ed4bfb2",
   "metadata": {
    "execution": {
     "iopub.execute_input": "2024-07-26T07:48:27.494233Z",
     "iopub.status.busy": "2024-07-26T07:48:27.493751Z",
     "iopub.status.idle": "2024-07-26T07:48:27.716311Z",
     "shell.execute_reply": "2024-07-26T07:48:27.715408Z"
    },
    "papermill": {
     "duration": 0.244355,
     "end_time": "2024-07-26T07:48:27.718521",
     "exception": false,
     "start_time": "2024-07-26T07:48:27.474166",
     "status": "completed"
    },
    "tags": []
   },
   "outputs": [
    {
     "data": {
      "text/html": [
       "<div>\n",
       "<style scoped>\n",
       "    .dataframe tbody tr th:only-of-type {\n",
       "        vertical-align: middle;\n",
       "    }\n",
       "\n",
       "    .dataframe tbody tr th {\n",
       "        vertical-align: top;\n",
       "    }\n",
       "\n",
       "    .dataframe thead th {\n",
       "        text-align: right;\n",
       "    }\n",
       "</style>\n",
       "<table border=\"1\" class=\"dataframe\">\n",
       "  <thead>\n",
       "    <tr style=\"text-align: right;\">\n",
       "      <th></th>\n",
       "      <th>Area</th>\n",
       "      <th>Construction</th>\n",
       "      <th>Room</th>\n",
       "      <th>Warehouse</th>\n",
       "      <th>Parking</th>\n",
       "      <th>Elevator</th>\n",
       "      <th>Address</th>\n",
       "      <th>Price</th>\n",
       "    </tr>\n",
       "  </thead>\n",
       "  <tbody>\n",
       "    <tr>\n",
       "      <th>0</th>\n",
       "      <td>153</td>\n",
       "      <td>1393</td>\n",
       "      <td>3</td>\n",
       "      <td>True</td>\n",
       "      <td>True</td>\n",
       "      <td>True</td>\n",
       "      <td>درکه</td>\n",
       "      <td>1.836000e+10</td>\n",
       "    </tr>\n",
       "    <tr>\n",
       "      <th>1</th>\n",
       "      <td>418</td>\n",
       "      <td>1382</td>\n",
       "      <td>4</td>\n",
       "      <td>True</td>\n",
       "      <td>True</td>\n",
       "      <td>True</td>\n",
       "      <td>زعفرانیه</td>\n",
       "      <td>1.300000e+11</td>\n",
       "    </tr>\n",
       "    <tr>\n",
       "      <th>2</th>\n",
       "      <td>57</td>\n",
       "      <td>1385</td>\n",
       "      <td>2</td>\n",
       "      <td>False</td>\n",
       "      <td>False</td>\n",
       "      <td>True</td>\n",
       "      <td>جابری</td>\n",
       "      <td>2.600000e+09</td>\n",
       "    </tr>\n",
       "    <tr>\n",
       "      <th>3</th>\n",
       "      <td>193</td>\n",
       "      <td>1371</td>\n",
       "      <td>3</td>\n",
       "      <td>False</td>\n",
       "      <td>False</td>\n",
       "      <td>True</td>\n",
       "      <td>فرمانیه</td>\n",
       "      <td>2.300000e+10</td>\n",
       "    </tr>\n",
       "    <tr>\n",
       "      <th>4</th>\n",
       "      <td>62</td>\n",
       "      <td>1401</td>\n",
       "      <td>1</td>\n",
       "      <td>True</td>\n",
       "      <td>True</td>\n",
       "      <td>True</td>\n",
       "      <td>دهکده المپیک</td>\n",
       "      <td>1.410000e+09</td>\n",
       "    </tr>\n",
       "    <tr>\n",
       "      <th>...</th>\n",
       "      <td>...</td>\n",
       "      <td>...</td>\n",
       "      <td>...</td>\n",
       "      <td>...</td>\n",
       "      <td>...</td>\n",
       "      <td>...</td>\n",
       "      <td>...</td>\n",
       "      <td>...</td>\n",
       "    </tr>\n",
       "    <tr>\n",
       "      <th>93785</th>\n",
       "      <td>181</td>\n",
       "      <td>1393</td>\n",
       "      <td>3</td>\n",
       "      <td>True</td>\n",
       "      <td>True</td>\n",
       "      <td>True</td>\n",
       "      <td>جردن</td>\n",
       "      <td>1.800000e+10</td>\n",
       "    </tr>\n",
       "    <tr>\n",
       "      <th>93786</th>\n",
       "      <td>121</td>\n",
       "      <td>1400</td>\n",
       "      <td>3</td>\n",
       "      <td>True</td>\n",
       "      <td>True</td>\n",
       "      <td>True</td>\n",
       "      <td>اباذر</td>\n",
       "      <td>1.380000e+10</td>\n",
       "    </tr>\n",
       "    <tr>\n",
       "      <th>93787</th>\n",
       "      <td>140</td>\n",
       "      <td>1400</td>\n",
       "      <td>3</td>\n",
       "      <td>True</td>\n",
       "      <td>True</td>\n",
       "      <td>True</td>\n",
       "      <td>آبشار تهران</td>\n",
       "      <td>9.860000e+09</td>\n",
       "    </tr>\n",
       "    <tr>\n",
       "      <th>93788</th>\n",
       "      <td>105</td>\n",
       "      <td>1398</td>\n",
       "      <td>2</td>\n",
       "      <td>True</td>\n",
       "      <td>True</td>\n",
       "      <td>True</td>\n",
       "      <td>اوقاف</td>\n",
       "      <td>6.430000e+09</td>\n",
       "    </tr>\n",
       "    <tr>\n",
       "      <th>93789</th>\n",
       "      <td>51</td>\n",
       "      <td>1385</td>\n",
       "      <td>1</td>\n",
       "      <td>True</td>\n",
       "      <td>True</td>\n",
       "      <td>True</td>\n",
       "      <td>سلسبیل</td>\n",
       "      <td>3.100000e+09</td>\n",
       "    </tr>\n",
       "  </tbody>\n",
       "</table>\n",
       "<p>93790 rows × 8 columns</p>\n",
       "</div>"
      ],
      "text/plain": [
       "      Area Construction Room Warehouse Parking Elevator       Address  \\\n",
       "0      153         1393    3      True    True     True          درکه   \n",
       "1      418         1382    4      True    True     True      زعفرانیه   \n",
       "2       57         1385    2     False   False     True         جابری   \n",
       "3      193         1371    3     False   False     True       فرمانیه   \n",
       "4       62         1401    1      True    True     True  دهکده المپیک   \n",
       "...    ...          ...  ...       ...     ...      ...           ...   \n",
       "93785  181         1393    3      True    True     True          جردن   \n",
       "93786  121         1400    3      True    True     True         اباذر   \n",
       "93787  140         1400    3      True    True     True   آبشار تهران   \n",
       "93788  105         1398    2      True    True     True         اوقاف   \n",
       "93789   51         1385    1      True    True     True        سلسبیل   \n",
       "\n",
       "              Price  \n",
       "0      1.836000e+10  \n",
       "1      1.300000e+11  \n",
       "2      2.600000e+09  \n",
       "3      2.300000e+10  \n",
       "4      1.410000e+09  \n",
       "...             ...  \n",
       "93785  1.800000e+10  \n",
       "93786  1.380000e+10  \n",
       "93787  9.860000e+09  \n",
       "93788  6.430000e+09  \n",
       "93789  3.100000e+09  \n",
       "\n",
       "[93790 rows x 8 columns]"
      ]
     },
     "execution_count": 10,
     "metadata": {},
     "output_type": "execute_result"
    }
   ],
   "source": [
    "def clean_Address(address):\n",
    "\n",
    "    match = re.search(r'پیش در تهران، ([^،]+)(?:، [^،]+)?$', address)\n",
    "    if match:\n",
    "        return match.group(1)\n",
    "    return address\n",
    "\n",
    "Housing_data['Address'] = Housing_data['Address'].apply(clean_Address)\n",
    "Housing_data"
   ]
  },
  {
   "cell_type": "code",
   "execution_count": 11,
   "id": "62c7b37e",
   "metadata": {
    "execution": {
     "iopub.execute_input": "2024-07-26T07:48:27.759512Z",
     "iopub.status.busy": "2024-07-26T07:48:27.758853Z",
     "iopub.status.idle": "2024-07-26T07:48:27.763979Z",
     "shell.execute_reply": "2024-07-26T07:48:27.763199Z"
    },
    "papermill": {
     "duration": 0.027061,
     "end_time": "2024-07-26T07:48:27.765904",
     "exception": false,
     "start_time": "2024-07-26T07:48:27.738843",
     "status": "completed"
    },
    "tags": []
   },
   "outputs": [],
   "source": [
    "l =[]\n",
    "for i in range(1300, 1402):\n",
    "    l.append(str(i))\n",
    "\n",
    "def v(Construction):\n",
    "    if isinstance(Construction, str):\n",
    "        if Construction in l:\n",
    "            return int(Construction)\n",
    "        else:\n",
    "            return 'Unknown'\n",
    "    else:\n",
    "        return Construction"
   ]
  },
  {
   "cell_type": "code",
   "execution_count": 12,
   "id": "67bca630",
   "metadata": {
    "execution": {
     "iopub.execute_input": "2024-07-26T07:48:27.806434Z",
     "iopub.status.busy": "2024-07-26T07:48:27.805982Z",
     "iopub.status.idle": "2024-07-26T07:48:28.034170Z",
     "shell.execute_reply": "2024-07-26T07:48:28.033456Z"
    },
    "papermill": {
     "duration": 0.250146,
     "end_time": "2024-07-26T07:48:28.036316",
     "exception": false,
     "start_time": "2024-07-26T07:48:27.786170",
     "status": "completed"
    },
    "tags": []
   },
   "outputs": [],
   "source": [
    "Housing_data['Construction'] = Housing_data['Construction'].apply(v)"
   ]
  },
  {
   "cell_type": "code",
   "execution_count": 13,
   "id": "f40facbb",
   "metadata": {
    "execution": {
     "iopub.execute_input": "2024-07-26T07:48:28.076428Z",
     "iopub.status.busy": "2024-07-26T07:48:28.076123Z",
     "iopub.status.idle": "2024-07-26T07:48:28.083290Z",
     "shell.execute_reply": "2024-07-26T07:48:28.082437Z"
    },
    "papermill": {
     "duration": 0.029347,
     "end_time": "2024-07-26T07:48:28.085147",
     "exception": false,
     "start_time": "2024-07-26T07:48:28.055800",
     "status": "completed"
    },
    "tags": []
   },
   "outputs": [],
   "source": [
    "A = [str(i) for i in range(0, 10000)]\n",
    "\n",
    "def p(Area):\n",
    "    if isinstance(Area, str):\n",
    "        if Area in A:\n",
    "            return int(Area)\n",
    "        else:\n",
    "            return np.nan\n",
    "    elif isinstance(Area, int):\n",
    "        return Area"
   ]
  },
  {
   "cell_type": "code",
   "execution_count": 14,
   "id": "84349639",
   "metadata": {
    "execution": {
     "iopub.execute_input": "2024-07-26T07:48:28.163649Z",
     "iopub.status.busy": "2024-07-26T07:48:28.163301Z",
     "iopub.status.idle": "2024-07-26T07:48:28.400589Z",
     "shell.execute_reply": "2024-07-26T07:48:28.399751Z"
    },
    "papermill": {
     "duration": 0.298343,
     "end_time": "2024-07-26T07:48:28.402837",
     "exception": false,
     "start_time": "2024-07-26T07:48:28.104494",
     "status": "completed"
    },
    "tags": []
   },
   "outputs": [],
   "source": [
    "Housing_data['Area'] = Housing_data['Area'].apply(p)"
   ]
  },
  {
   "cell_type": "code",
   "execution_count": 15,
   "id": "b5c6350b",
   "metadata": {
    "execution": {
     "iopub.execute_input": "2024-07-26T07:48:28.443486Z",
     "iopub.status.busy": "2024-07-26T07:48:28.443194Z",
     "iopub.status.idle": "2024-07-26T07:48:28.473852Z",
     "shell.execute_reply": "2024-07-26T07:48:28.473086Z"
    },
    "papermill": {
     "duration": 0.05328,
     "end_time": "2024-07-26T07:48:28.476106",
     "exception": false,
     "start_time": "2024-07-26T07:48:28.422826",
     "status": "completed"
    },
    "tags": []
   },
   "outputs": [],
   "source": [
    "Housing_data = Housing_data[Housing_data['Construction']!= 'Unknown']"
   ]
  },
  {
   "cell_type": "code",
   "execution_count": 16,
   "id": "6a344ab7",
   "metadata": {
    "execution": {
     "iopub.execute_input": "2024-07-26T07:48:28.517477Z",
     "iopub.status.busy": "2024-07-26T07:48:28.517172Z",
     "iopub.status.idle": "2024-07-26T07:48:28.534437Z",
     "shell.execute_reply": "2024-07-26T07:48:28.533719Z"
    },
    "papermill": {
     "duration": 0.040189,
     "end_time": "2024-07-26T07:48:28.536645",
     "exception": false,
     "start_time": "2024-07-26T07:48:28.496456",
     "status": "completed"
    },
    "tags": []
   },
   "outputs": [],
   "source": [
    "Housing_data = Housing_data.dropna(subset=['Area'])\n",
    "Housing_data['Area'] = Housing_data['Area'].astype(int)"
   ]
  },
  {
   "cell_type": "code",
   "execution_count": 17,
   "id": "253af7ec",
   "metadata": {
    "execution": {
     "iopub.execute_input": "2024-07-26T07:48:28.578481Z",
     "iopub.status.busy": "2024-07-26T07:48:28.578008Z",
     "iopub.status.idle": "2024-07-26T07:48:28.668225Z",
     "shell.execute_reply": "2024-07-26T07:48:28.667532Z"
    },
    "papermill": {
     "duration": 0.113224,
     "end_time": "2024-07-26T07:48:28.670401",
     "exception": false,
     "start_time": "2024-07-26T07:48:28.557177",
     "status": "completed"
    },
    "tags": []
   },
   "outputs": [],
   "source": [
    "Housing_data.drop_duplicates(inplace= True)"
   ]
  },
  {
   "cell_type": "code",
   "execution_count": 18,
   "id": "441a8e0d",
   "metadata": {
    "execution": {
     "iopub.execute_input": "2024-07-26T07:48:28.711017Z",
     "iopub.status.busy": "2024-07-26T07:48:28.710492Z",
     "iopub.status.idle": "2024-07-26T07:48:28.762391Z",
     "shell.execute_reply": "2024-07-26T07:48:28.761355Z"
    },
    "papermill": {
     "duration": 0.07421,
     "end_time": "2024-07-26T07:48:28.764387",
     "exception": false,
     "start_time": "2024-07-26T07:48:28.690177",
     "status": "completed"
    },
    "tags": []
   },
   "outputs": [
    {
     "name": "stdout",
     "output_type": "stream",
     "text": [
      "<class 'pandas.core.frame.DataFrame'>\n",
      "Index: 89497 entries, 0 to 93789\n",
      "Data columns (total 8 columns):\n",
      " #   Column        Non-Null Count  Dtype  \n",
      "---  ------        --------------  -----  \n",
      " 0   Area          89497 non-null  int64  \n",
      " 1   Construction  89497 non-null  int64  \n",
      " 2   Room          89497 non-null  object \n",
      " 3   Warehouse     89497 non-null  object \n",
      " 4   Parking       89497 non-null  object \n",
      " 5   Elevator      89497 non-null  object \n",
      " 6   Address       89497 non-null  object \n",
      " 7   Price         89497 non-null  float64\n",
      "dtypes: float64(1), int64(2), object(5)\n",
      "memory usage: 6.1+ MB\n"
     ]
    }
   ],
   "source": [
    "Housing_data.info()"
   ]
  },
  {
   "cell_type": "code",
   "execution_count": 19,
   "id": "458b68f5",
   "metadata": {
    "execution": {
     "iopub.execute_input": "2024-07-26T07:48:28.808854Z",
     "iopub.status.busy": "2024-07-26T07:48:28.808238Z",
     "iopub.status.idle": "2024-07-26T07:48:28.813612Z",
     "shell.execute_reply": "2024-07-26T07:48:28.812769Z"
    },
    "papermill": {
     "duration": 0.028758,
     "end_time": "2024-07-26T07:48:28.815488",
     "exception": false,
     "start_time": "2024-07-26T07:48:28.786730",
     "status": "completed"
    },
    "tags": []
   },
   "outputs": [],
   "source": [
    "l =[]\n",
    "for i in range(1, 5):\n",
    "    l.append(str(i))\n",
    "\n",
    "def Room(Room):\n",
    "    if isinstance(Room, str):\n",
    "        if Room in l:\n",
    "            return int(Room)\n",
    "        else:\n",
    "            return 'Unknown'\n",
    "    else:\n",
    "        return Room"
   ]
  },
  {
   "cell_type": "code",
   "execution_count": 20,
   "id": "00683dcf",
   "metadata": {
    "execution": {
     "iopub.execute_input": "2024-07-26T07:48:28.856685Z",
     "iopub.status.busy": "2024-07-26T07:48:28.855905Z",
     "iopub.status.idle": "2024-07-26T07:48:28.936063Z",
     "shell.execute_reply": "2024-07-26T07:48:28.935302Z"
    },
    "papermill": {
     "duration": 0.103032,
     "end_time": "2024-07-26T07:48:28.938168",
     "exception": false,
     "start_time": "2024-07-26T07:48:28.835136",
     "status": "completed"
    },
    "tags": []
   },
   "outputs": [],
   "source": [
    "Housing_data['Room'] = Housing_data['Room'].apply(Room)"
   ]
  },
  {
   "cell_type": "code",
   "execution_count": 21,
   "id": "d95084dc",
   "metadata": {
    "execution": {
     "iopub.execute_input": "2024-07-26T07:48:28.979454Z",
     "iopub.status.busy": "2024-07-26T07:48:28.979180Z",
     "iopub.status.idle": "2024-07-26T07:48:29.046307Z",
     "shell.execute_reply": "2024-07-26T07:48:29.045605Z"
    },
    "papermill": {
     "duration": 0.090058,
     "end_time": "2024-07-26T07:48:29.048244",
     "exception": false,
     "start_time": "2024-07-26T07:48:28.958186",
     "status": "completed"
    },
    "tags": []
   },
   "outputs": [],
   "source": [
    "Housing_data['Warehouse'] = Housing_data['Warehouse'].astype(str)\n",
    "Housing_data['Warehouse'] = Housing_data['Warehouse'].map({'True': True, 'False': False, 'true': True, 'false': False, True: True, False: False})\n",
    "\n",
    "Housing_data['Parking'] = Housing_data['Parking'].astype(str)\n",
    "Housing_data['Parking'] = Housing_data['Parking'].map({'True': True, 'False': False, 'true': True, 'false': False, True: True, False: False})\n",
    "\n",
    "Housing_data['Elevator'] = Housing_data['Elevator'].astype(str)\n",
    "Housing_data['Elevator'] = Housing_data['Elevator'].map({'True': True, 'False': False, 'true': True, 'false': False, True: True, False: False})"
   ]
  },
  {
   "cell_type": "code",
   "execution_count": 22,
   "id": "b2b1c529",
   "metadata": {
    "execution": {
     "iopub.execute_input": "2024-07-26T07:48:29.088670Z",
     "iopub.status.busy": "2024-07-26T07:48:29.088362Z",
     "iopub.status.idle": "2024-07-26T07:48:29.107493Z",
     "shell.execute_reply": "2024-07-26T07:48:29.106468Z"
    },
    "papermill": {
     "duration": 0.041509,
     "end_time": "2024-07-26T07:48:29.109553",
     "exception": false,
     "start_time": "2024-07-26T07:48:29.068044",
     "status": "completed"
    },
    "tags": []
   },
   "outputs": [
    {
     "name": "stdout",
     "output_type": "stream",
     "text": [
      "<class 'pandas.core.frame.DataFrame'>\n",
      "Index: 89497 entries, 0 to 93789\n",
      "Data columns (total 8 columns):\n",
      " #   Column        Non-Null Count  Dtype  \n",
      "---  ------        --------------  -----  \n",
      " 0   Area          89497 non-null  int64  \n",
      " 1   Construction  89497 non-null  int64  \n",
      " 2   Room          89497 non-null  int64  \n",
      " 3   Warehouse     89497 non-null  bool   \n",
      " 4   Parking       89497 non-null  bool   \n",
      " 5   Elevator      89497 non-null  bool   \n",
      " 6   Address       89497 non-null  object \n",
      " 7   Price         89497 non-null  float64\n",
      "dtypes: bool(3), float64(1), int64(3), object(1)\n",
      "memory usage: 4.4+ MB\n"
     ]
    }
   ],
   "source": [
    "Housing_data.info()"
   ]
  },
  {
   "cell_type": "code",
   "execution_count": 23,
   "id": "1b566dde",
   "metadata": {
    "execution": {
     "iopub.execute_input": "2024-07-26T07:48:29.152089Z",
     "iopub.status.busy": "2024-07-26T07:48:29.151416Z",
     "iopub.status.idle": "2024-07-26T07:48:29.167512Z",
     "shell.execute_reply": "2024-07-26T07:48:29.166593Z"
    },
    "papermill": {
     "duration": 0.039433,
     "end_time": "2024-07-26T07:48:29.169442",
     "exception": false,
     "start_time": "2024-07-26T07:48:29.130009",
     "status": "completed"
    },
    "tags": []
   },
   "outputs": [
    {
     "data": {
      "text/plain": [
       "337"
      ]
     },
     "execution_count": 23,
     "metadata": {},
     "output_type": "execute_result"
    }
   ],
   "source": [
    "Housing_data.Address.nunique()"
   ]
  },
  {
   "cell_type": "markdown",
   "id": "ca62b323",
   "metadata": {
    "papermill": {
     "duration": 0.019862,
     "end_time": "2024-07-26T07:48:29.209310",
     "exception": false,
     "start_time": "2024-07-26T07:48:29.189448",
     "status": "completed"
    },
    "tags": []
   },
   "source": [
    "As it is clear above, the houses registered in this dataset are distributed in 337 different neighborhoods."
   ]
  },
  {
   "cell_type": "markdown",
   "id": "533fd6d2",
   "metadata": {
    "papermill": {
     "duration": 0.019553,
     "end_time": "2024-07-26T07:48:29.248713",
     "exception": false,
     "start_time": "2024-07-26T07:48:29.229160",
     "status": "completed"
    },
    "tags": []
   },
   "source": [
    "## EDA & Visualization"
   ]
  },
  {
   "cell_type": "code",
   "execution_count": 24,
   "id": "a5151359",
   "metadata": {
    "execution": {
     "iopub.execute_input": "2024-07-26T07:48:29.290234Z",
     "iopub.status.busy": "2024-07-26T07:48:29.289898Z",
     "iopub.status.idle": "2024-07-26T07:48:29.296040Z",
     "shell.execute_reply": "2024-07-26T07:48:29.295132Z"
    },
    "papermill": {
     "duration": 0.029596,
     "end_time": "2024-07-26T07:48:29.297946",
     "exception": false,
     "start_time": "2024-07-26T07:48:29.268350",
     "status": "completed"
    },
    "tags": []
   },
   "outputs": [
    {
     "data": {
      "text/plain": [
       "Index(['Area', 'Construction', 'Room', 'Warehouse', 'Parking', 'Elevator',\n",
       "       'Address', 'Price'],\n",
       "      dtype='object')"
      ]
     },
     "execution_count": 24,
     "metadata": {},
     "output_type": "execute_result"
    }
   ],
   "source": [
    "Housing_data.columns"
   ]
  },
  {
   "cell_type": "markdown",
   "id": "608036e1",
   "metadata": {
    "papermill": {
     "duration": 0.019558,
     "end_time": "2024-07-26T07:48:29.337761",
     "exception": false,
     "start_time": "2024-07-26T07:48:29.318203",
     "status": "completed"
    },
    "tags": []
   },
   "source": [
    "This dataset contains information about the houses listed on the 'Divar' site, for each house the following 8 characteristics are collected:\n",
    "\n",
    "- 'Area': Apartment area (square meters)\n",
    "- 'Construction': Year of construction\n",
    "- 'Room': Number of Room\n",
    "- 'Warehouse': This is True if the property has Warehouse \n",
    "- 'Parking': This is True if the property has Parking \n",
    "- 'Elevator': This is True if the property has an Elevator\n",
    "- 'Address': Location\n",
    "- 'Price': in Toman (Iranian Currency) "
   ]
  },
  {
   "cell_type": "code",
   "execution_count": 25,
   "id": "4bb56f9b",
   "metadata": {
    "execution": {
     "iopub.execute_input": "2024-07-26T07:48:29.378717Z",
     "iopub.status.busy": "2024-07-26T07:48:29.378346Z",
     "iopub.status.idle": "2024-07-26T07:48:29.411364Z",
     "shell.execute_reply": "2024-07-26T07:48:29.410524Z"
    },
    "papermill": {
     "duration": 0.056064,
     "end_time": "2024-07-26T07:48:29.413519",
     "exception": false,
     "start_time": "2024-07-26T07:48:29.357455",
     "status": "completed"
    },
    "tags": []
   },
   "outputs": [
    {
     "data": {
      "text/html": [
       "<div>\n",
       "<style scoped>\n",
       "    .dataframe tbody tr th:only-of-type {\n",
       "        vertical-align: middle;\n",
       "    }\n",
       "\n",
       "    .dataframe tbody tr th {\n",
       "        vertical-align: top;\n",
       "    }\n",
       "\n",
       "    .dataframe thead th {\n",
       "        text-align: right;\n",
       "    }\n",
       "</style>\n",
       "<table border=\"1\" class=\"dataframe\">\n",
       "  <thead>\n",
       "    <tr style=\"text-align: right;\">\n",
       "      <th></th>\n",
       "      <th>Area</th>\n",
       "      <th>Construction</th>\n",
       "      <th>Room</th>\n",
       "      <th>Price</th>\n",
       "    </tr>\n",
       "  </thead>\n",
       "  <tbody>\n",
       "    <tr>\n",
       "      <th>count</th>\n",
       "      <td>89497.000000</td>\n",
       "      <td>89497.000000</td>\n",
       "      <td>89497.000000</td>\n",
       "      <td>8.949700e+04</td>\n",
       "    </tr>\n",
       "    <tr>\n",
       "      <th>mean</th>\n",
       "      <td>123.186263</td>\n",
       "      <td>1392.808116</td>\n",
       "      <td>2.225449</td>\n",
       "      <td>1.453441e+10</td>\n",
       "    </tr>\n",
       "    <tr>\n",
       "      <th>std</th>\n",
       "      <td>199.798156</td>\n",
       "      <td>7.749285</td>\n",
       "      <td>0.769985</td>\n",
       "      <td>2.675891e+10</td>\n",
       "    </tr>\n",
       "    <tr>\n",
       "      <th>min</th>\n",
       "      <td>1.000000</td>\n",
       "      <td>1371.000000</td>\n",
       "      <td>1.000000</td>\n",
       "      <td>2.300000e+08</td>\n",
       "    </tr>\n",
       "    <tr>\n",
       "      <th>25%</th>\n",
       "      <td>74.000000</td>\n",
       "      <td>1386.000000</td>\n",
       "      <td>2.000000</td>\n",
       "      <td>4.900000e+09</td>\n",
       "    </tr>\n",
       "    <tr>\n",
       "      <th>50%</th>\n",
       "      <td>105.000000</td>\n",
       "      <td>1395.000000</td>\n",
       "      <td>2.000000</td>\n",
       "      <td>8.600000e+09</td>\n",
       "    </tr>\n",
       "    <tr>\n",
       "      <th>75%</th>\n",
       "      <td>141.000000</td>\n",
       "      <td>1400.000000</td>\n",
       "      <td>3.000000</td>\n",
       "      <td>1.550000e+10</td>\n",
       "    </tr>\n",
       "    <tr>\n",
       "      <th>max</th>\n",
       "      <td>36500.000000</td>\n",
       "      <td>1401.000000</td>\n",
       "      <td>4.000000</td>\n",
       "      <td>1.000000e+12</td>\n",
       "    </tr>\n",
       "  </tbody>\n",
       "</table>\n",
       "</div>"
      ],
      "text/plain": [
       "               Area  Construction          Room         Price\n",
       "count  89497.000000  89497.000000  89497.000000  8.949700e+04\n",
       "mean     123.186263   1392.808116      2.225449  1.453441e+10\n",
       "std      199.798156      7.749285      0.769985  2.675891e+10\n",
       "min        1.000000   1371.000000      1.000000  2.300000e+08\n",
       "25%       74.000000   1386.000000      2.000000  4.900000e+09\n",
       "50%      105.000000   1395.000000      2.000000  8.600000e+09\n",
       "75%      141.000000   1400.000000      3.000000  1.550000e+10\n",
       "max    36500.000000   1401.000000      4.000000  1.000000e+12"
      ]
     },
     "execution_count": 25,
     "metadata": {},
     "output_type": "execute_result"
    }
   ],
   "source": [
    "Housing_data.describe()"
   ]
  },
  {
   "cell_type": "markdown",
   "id": "f85c08e8",
   "metadata": {
    "papermill": {
     "duration": 0.019761,
     "end_time": "2024-07-26T07:48:29.453392",
     "exception": false,
     "start_time": "2024-07-26T07:48:29.433631",
     "status": "completed"
    },
    "tags": []
   },
   "source": [
    "- According to the above information, the average construction of all houses was in 1392-1393. The oldest house is in 1371 and the newest is in 1401\n",
    "\n",
    "- The average size of the houses is about 125 square meters. Also, the smallest house is 1 cubic meter and the largest house is 36,500 cubic meters.\n",
    "\n",
    "- The average number of rooms is 2 rooms. Also, the minimum number of rooms is 1 and the maximum number of rooms is 4.\n",
    "\n",
    "- The average price of all houses in this dataset is 14.5 billion tomans. Also, the cheapest house is 230 million Tomans and the most expensive house is 1000 billion Tomans."
   ]
  },
  {
   "cell_type": "code",
   "execution_count": 26,
   "id": "45feccf9",
   "metadata": {
    "execution": {
     "iopub.execute_input": "2024-07-26T07:48:29.494314Z",
     "iopub.status.busy": "2024-07-26T07:48:29.494042Z",
     "iopub.status.idle": "2024-07-26T07:48:29.502812Z",
     "shell.execute_reply": "2024-07-26T07:48:29.502033Z"
    },
    "papermill": {
     "duration": 0.031333,
     "end_time": "2024-07-26T07:48:29.504734",
     "exception": false,
     "start_time": "2024-07-26T07:48:29.473401",
     "status": "completed"
    },
    "tags": []
   },
   "outputs": [
    {
     "data": {
      "text/plain": [
       "Parking\n",
       "True     0.869694\n",
       "False    0.130306\n",
       "Name: proportion, dtype: float64"
      ]
     },
     "execution_count": 26,
     "metadata": {},
     "output_type": "execute_result"
    }
   ],
   "source": [
    "Housing_data.Parking.value_counts(normalize=True)"
   ]
  },
  {
   "cell_type": "code",
   "execution_count": 27,
   "id": "c1d7dd0d",
   "metadata": {
    "execution": {
     "iopub.execute_input": "2024-07-26T07:48:29.546628Z",
     "iopub.status.busy": "2024-07-26T07:48:29.546334Z",
     "iopub.status.idle": "2024-07-26T07:48:29.553397Z",
     "shell.execute_reply": "2024-07-26T07:48:29.552605Z"
    },
    "papermill": {
     "duration": 0.030002,
     "end_time": "2024-07-26T07:48:29.555310",
     "exception": false,
     "start_time": "2024-07-26T07:48:29.525308",
     "status": "completed"
    },
    "tags": []
   },
   "outputs": [
    {
     "data": {
      "text/plain": [
       "Elevator\n",
       "True     0.946836\n",
       "False    0.053164\n",
       "Name: proportion, dtype: float64"
      ]
     },
     "execution_count": 27,
     "metadata": {},
     "output_type": "execute_result"
    }
   ],
   "source": [
    "Housing_data.Elevator.value_counts(normalize=True)"
   ]
  },
  {
   "cell_type": "code",
   "execution_count": 28,
   "id": "b2c66d39",
   "metadata": {
    "execution": {
     "iopub.execute_input": "2024-07-26T07:48:29.597410Z",
     "iopub.status.busy": "2024-07-26T07:48:29.596957Z",
     "iopub.status.idle": "2024-07-26T07:48:29.604400Z",
     "shell.execute_reply": "2024-07-26T07:48:29.603522Z"
    },
    "papermill": {
     "duration": 0.030522,
     "end_time": "2024-07-26T07:48:29.606561",
     "exception": false,
     "start_time": "2024-07-26T07:48:29.576039",
     "status": "completed"
    },
    "tags": []
   },
   "outputs": [
    {
     "data": {
      "text/plain": [
       "Warehouse\n",
       "True     0.806809\n",
       "False    0.193191\n",
       "Name: proportion, dtype: float64"
      ]
     },
     "execution_count": 28,
     "metadata": {},
     "output_type": "execute_result"
    }
   ],
   "source": [
    "Housing_data.Warehouse.value_counts(normalize=True)"
   ]
  },
  {
   "cell_type": "markdown",
   "id": "a9f11eef",
   "metadata": {
    "papermill": {
     "duration": 0.020572,
     "end_time": "2024-07-26T07:48:29.648518",
     "exception": false,
     "start_time": "2024-07-26T07:48:29.627946",
     "status": "completed"
    },
    "tags": []
   },
   "source": [
    "According to the above information, about 87% of the houses in this dataset have parking spaces. Also, about 95% of these houses have elevators. 81% of them also have a warehouse. This statistic can also be seen in the chart below."
   ]
  },
  {
   "cell_type": "code",
   "execution_count": 29,
   "id": "04e33298",
   "metadata": {
    "execution": {
     "iopub.execute_input": "2024-07-26T07:48:29.691730Z",
     "iopub.status.busy": "2024-07-26T07:48:29.691417Z",
     "iopub.status.idle": "2024-07-26T07:48:30.259611Z",
     "shell.execute_reply": "2024-07-26T07:48:30.258745Z"
    },
    "papermill": {
     "duration": 0.592848,
     "end_time": "2024-07-26T07:48:30.262223",
     "exception": false,
     "start_time": "2024-07-26T07:48:29.669375",
     "status": "completed"
    },
    "tags": []
   },
   "outputs": [
    {
     "data": {
      "image/png": "[encoded data removed]",
      "text/plain": [
       "<Figure size 1800x600 with 3 Axes>"
      ]
     },
     "metadata": {},
     "output_type": "display_data"
    }
   ],
   "source": [
    "fig, ax = plt.subplots(ncols=3, figsize=(18,6))\n",
    "\n",
    "colors = [['#ADEFD1FF', '#00203FFF'], ['#97BC62FF', '#2C5F2D'], ['#F5C7B8FF', '#FFA177FF']]\n",
    "explode = [0, 0.2]\n",
    "columns = ['Parking', 'Elevator', 'Warehouse']\n",
    "for i in range(3):\n",
    "        data = Housing_data[columns[i]].value_counts()\n",
    "        ax[i].pie(data, labels=data.values, explode=explode, colors=colors[i], shadow=True)\n",
    "        ax[i].legend(labels=data.index, fontsize='large')\n",
    "        ax[i].set_title('{} distribution'.format(columns[i]))"
   ]
  },
  {
   "cell_type": "code",
   "execution_count": 30,
   "id": "a6f7a672",
   "metadata": {
    "execution": {
     "iopub.execute_input": "2024-07-26T07:48:30.306532Z",
     "iopub.status.busy": "2024-07-26T07:48:30.306251Z",
     "iopub.status.idle": "2024-07-26T07:48:30.329692Z",
     "shell.execute_reply": "2024-07-26T07:48:30.328857Z"
    },
    "papermill": {
     "duration": 0.047678,
     "end_time": "2024-07-26T07:48:30.331550",
     "exception": false,
     "start_time": "2024-07-26T07:48:30.283872",
     "status": "completed"
    },
    "tags": []
   },
   "outputs": [
    {
     "data": {
      "text/html": [
       "<div>\n",
       "<style scoped>\n",
       "    .dataframe tbody tr th:only-of-type {\n",
       "        vertical-align: middle;\n",
       "    }\n",
       "\n",
       "    .dataframe tbody tr th {\n",
       "        vertical-align: top;\n",
       "    }\n",
       "\n",
       "    .dataframe thead th {\n",
       "        text-align: right;\n",
       "    }\n",
       "</style>\n",
       "<table border=\"1\" class=\"dataframe\">\n",
       "  <thead>\n",
       "    <tr style=\"text-align: right;\">\n",
       "      <th>Room</th>\n",
       "      <th>1</th>\n",
       "      <th>2</th>\n",
       "      <th>3</th>\n",
       "      <th>4</th>\n",
       "    </tr>\n",
       "    <tr>\n",
       "      <th>Elevator</th>\n",
       "      <th></th>\n",
       "      <th></th>\n",
       "      <th></th>\n",
       "      <th></th>\n",
       "    </tr>\n",
       "  </thead>\n",
       "  <tbody>\n",
       "    <tr>\n",
       "      <th>False</th>\n",
       "      <td>2017</td>\n",
       "      <td>2277</td>\n",
       "      <td>428</td>\n",
       "      <td>36</td>\n",
       "    </tr>\n",
       "    <tr>\n",
       "      <th>True</th>\n",
       "      <td>12890</td>\n",
       "      <td>41038</td>\n",
       "      <td>27038</td>\n",
       "      <td>3773</td>\n",
       "    </tr>\n",
       "  </tbody>\n",
       "</table>\n",
       "</div>"
      ],
      "text/plain": [
       "Room          1      2      3     4\n",
       "Elevator                           \n",
       "False      2017   2277    428    36\n",
       "True      12890  41038  27038  3773"
      ]
     },
     "execution_count": 30,
     "metadata": {},
     "output_type": "execute_result"
    }
   ],
   "source": [
    "pd.crosstab(Housing_data.Elevator, Housing_data.Room)"
   ]
  },
  {
   "cell_type": "code",
   "execution_count": 31,
   "id": "6a71a1d6",
   "metadata": {
    "execution": {
     "iopub.execute_input": "2024-07-26T07:48:30.376683Z",
     "iopub.status.busy": "2024-07-26T07:48:30.376377Z",
     "iopub.status.idle": "2024-07-26T07:48:30.677463Z",
     "shell.execute_reply": "2024-07-26T07:48:30.676542Z"
    },
    "papermill": {
     "duration": 0.325712,
     "end_time": "2024-07-26T07:48:30.679540",
     "exception": false,
     "start_time": "2024-07-26T07:48:30.353828",
     "status": "completed"
    },
    "tags": []
   },
   "outputs": [
    {
     "data": {
      "text/plain": [
       "<Axes: xlabel='Room', ylabel='count'>"
      ]
     },
     "execution_count": 31,
     "metadata": {},
     "output_type": "execute_result"
    },
    {
     "data": {
      "image/png": "[encoded data removed]",
      "text/plain": [
       "<Figure size 640x480 with 1 Axes>"
      ]
     },
     "metadata": {},
     "output_type": "display_data"
    }
   ],
   "source": [
    "sns.countplot(Housing_data, x = 'Room', hue='Elevator')"
   ]
  },
  {
   "cell_type": "code",
   "execution_count": 32,
   "id": "5f982875",
   "metadata": {
    "execution": {
     "iopub.execute_input": "2024-07-26T07:48:30.726547Z",
     "iopub.status.busy": "2024-07-26T07:48:30.726219Z",
     "iopub.status.idle": "2024-07-26T07:48:30.748268Z",
     "shell.execute_reply": "2024-07-26T07:48:30.747313Z"
    },
    "papermill": {
     "duration": 0.048052,
     "end_time": "2024-07-26T07:48:30.750551",
     "exception": false,
     "start_time": "2024-07-26T07:48:30.702499",
     "status": "completed"
    },
    "tags": []
   },
   "outputs": [
    {
     "data": {
      "text/html": [
       "<div>\n",
       "<style scoped>\n",
       "    .dataframe tbody tr th:only-of-type {\n",
       "        vertical-align: middle;\n",
       "    }\n",
       "\n",
       "    .dataframe tbody tr th {\n",
       "        vertical-align: top;\n",
       "    }\n",
       "\n",
       "    .dataframe thead th {\n",
       "        text-align: right;\n",
       "    }\n",
       "</style>\n",
       "<table border=\"1\" class=\"dataframe\">\n",
       "  <thead>\n",
       "    <tr style=\"text-align: right;\">\n",
       "      <th>Room</th>\n",
       "      <th>1</th>\n",
       "      <th>2</th>\n",
       "      <th>3</th>\n",
       "      <th>4</th>\n",
       "    </tr>\n",
       "    <tr>\n",
       "      <th>Warehouse</th>\n",
       "      <th></th>\n",
       "      <th></th>\n",
       "      <th></th>\n",
       "      <th></th>\n",
       "    </tr>\n",
       "  </thead>\n",
       "  <tbody>\n",
       "    <tr>\n",
       "      <th>False</th>\n",
       "      <td>7269</td>\n",
       "      <td>8757</td>\n",
       "      <td>1141</td>\n",
       "      <td>123</td>\n",
       "    </tr>\n",
       "    <tr>\n",
       "      <th>True</th>\n",
       "      <td>7638</td>\n",
       "      <td>34558</td>\n",
       "      <td>26325</td>\n",
       "      <td>3686</td>\n",
       "    </tr>\n",
       "  </tbody>\n",
       "</table>\n",
       "</div>"
      ],
      "text/plain": [
       "Room          1      2      3     4\n",
       "Warehouse                          \n",
       "False      7269   8757   1141   123\n",
       "True       7638  34558  26325  3686"
      ]
     },
     "execution_count": 32,
     "metadata": {},
     "output_type": "execute_result"
    }
   ],
   "source": [
    "pd.crosstab(Housing_data.Warehouse, Housing_data.Room)"
   ]
  },
  {
   "cell_type": "code",
   "execution_count": 33,
   "id": "676ca125",
   "metadata": {
    "execution": {
     "iopub.execute_input": "2024-07-26T07:48:30.801376Z",
     "iopub.status.busy": "2024-07-26T07:48:30.801073Z",
     "iopub.status.idle": "2024-07-26T07:48:31.093429Z",
     "shell.execute_reply": "2024-07-26T07:48:31.092491Z"
    },
    "papermill": {
     "duration": 0.319796,
     "end_time": "2024-07-26T07:48:31.095490",
     "exception": false,
     "start_time": "2024-07-26T07:48:30.775694",
     "status": "completed"
    },
    "tags": []
   },
   "outputs": [
    {
     "data": {
      "text/plain": [
       "<Axes: xlabel='Room', ylabel='count'>"
      ]
     },
     "execution_count": 33,
     "metadata": {},
     "output_type": "execute_result"
    },
    {
     "data": {
      "image/png": "[encoded data removed]",
      "text/plain": [
       "<Figure size 640x480 with 1 Axes>"
      ]
     },
     "metadata": {},
     "output_type": "display_data"
    }
   ],
   "source": [
    "sns.countplot(Housing_data, x = 'Room', hue='Warehouse')"
   ]
  },
  {
   "cell_type": "code",
   "execution_count": 34,
   "id": "5998ff1c",
   "metadata": {
    "execution": {
     "iopub.execute_input": "2024-07-26T07:48:31.143184Z",
     "iopub.status.busy": "2024-07-26T07:48:31.142631Z",
     "iopub.status.idle": "2024-07-26T07:48:31.163206Z",
     "shell.execute_reply": "2024-07-26T07:48:31.162283Z"
    },
    "papermill": {
     "duration": 0.046213,
     "end_time": "2024-07-26T07:48:31.165319",
     "exception": false,
     "start_time": "2024-07-26T07:48:31.119106",
     "status": "completed"
    },
    "tags": []
   },
   "outputs": [
    {
     "data": {
      "text/html": [
       "<div>\n",
       "<style scoped>\n",
       "    .dataframe tbody tr th:only-of-type {\n",
       "        vertical-align: middle;\n",
       "    }\n",
       "\n",
       "    .dataframe tbody tr th {\n",
       "        vertical-align: top;\n",
       "    }\n",
       "\n",
       "    .dataframe thead th {\n",
       "        text-align: right;\n",
       "    }\n",
       "</style>\n",
       "<table border=\"1\" class=\"dataframe\">\n",
       "  <thead>\n",
       "    <tr style=\"text-align: right;\">\n",
       "      <th>Room</th>\n",
       "      <th>1</th>\n",
       "      <th>2</th>\n",
       "      <th>3</th>\n",
       "      <th>4</th>\n",
       "    </tr>\n",
       "    <tr>\n",
       "      <th>Parking</th>\n",
       "      <th></th>\n",
       "      <th></th>\n",
       "      <th></th>\n",
       "      <th></th>\n",
       "    </tr>\n",
       "  </thead>\n",
       "  <tbody>\n",
       "    <tr>\n",
       "      <th>False</th>\n",
       "      <td>6441</td>\n",
       "      <td>4781</td>\n",
       "      <td>390</td>\n",
       "      <td>50</td>\n",
       "    </tr>\n",
       "    <tr>\n",
       "      <th>True</th>\n",
       "      <td>8466</td>\n",
       "      <td>38534</td>\n",
       "      <td>27076</td>\n",
       "      <td>3759</td>\n",
       "    </tr>\n",
       "  </tbody>\n",
       "</table>\n",
       "</div>"
      ],
      "text/plain": [
       "Room        1      2      3     4\n",
       "Parking                          \n",
       "False    6441   4781    390    50\n",
       "True     8466  38534  27076  3759"
      ]
     },
     "execution_count": 34,
     "metadata": {},
     "output_type": "execute_result"
    }
   ],
   "source": [
    "pd.crosstab(Housing_data.Parking, Housing_data.Room)"
   ]
  },
  {
   "cell_type": "code",
   "execution_count": 35,
   "id": "9f6d186e",
   "metadata": {
    "execution": {
     "iopub.execute_input": "2024-07-26T07:48:31.213312Z",
     "iopub.status.busy": "2024-07-26T07:48:31.212836Z",
     "iopub.status.idle": "2024-07-26T07:48:31.443899Z",
     "shell.execute_reply": "2024-07-26T07:48:31.443053Z"
    },
    "papermill": {
     "duration": 0.257308,
     "end_time": "2024-07-26T07:48:31.445995",
     "exception": false,
     "start_time": "2024-07-26T07:48:31.188687",
     "status": "completed"
    },
    "tags": []
   },
   "outputs": [
    {
     "data": {
      "text/plain": [
       "<Axes: xlabel='Room', ylabel='count'>"
      ]
     },
     "execution_count": 35,
     "metadata": {},
     "output_type": "execute_result"
    },
    {
     "data": {
      "image/png": "[encoded data removed]",
      "text/plain": [
       "<Figure size 640x480 with 1 Axes>"
      ]
     },
     "metadata": {},
     "output_type": "display_data"
    }
   ],
   "source": [
    "sns.countplot(Housing_data, x = 'Room', hue='Parking')"
   ]
  },
  {
   "cell_type": "markdown",
   "id": "20566376",
   "metadata": {
    "papermill": {
     "duration": 0.023789,
     "end_time": "2024-07-26T07:48:31.494553",
     "exception": false,
     "start_time": "2024-07-26T07:48:31.470764",
     "status": "completed"
    },
    "tags": []
   },
   "source": [
    "According to the information and charts above, the more the number of rooms, the more likely the house has an elevator.\n",
    "These ratios also apply to parking and storage, which means that the more rooms there are, the more likely it is that the house has a storage and parking."
   ]
  },
  {
   "cell_type": "code",
   "execution_count": 36,
   "id": "129c40f0",
   "metadata": {
    "execution": {
     "iopub.execute_input": "2024-07-26T07:48:31.544671Z",
     "iopub.status.busy": "2024-07-26T07:48:31.543517Z",
     "iopub.status.idle": "2024-07-26T07:48:31.554906Z",
     "shell.execute_reply": "2024-07-26T07:48:31.553975Z"
    },
    "papermill": {
     "duration": 0.038648,
     "end_time": "2024-07-26T07:48:31.557067",
     "exception": false,
     "start_time": "2024-07-26T07:48:31.518419",
     "status": "completed"
    },
    "tags": []
   },
   "outputs": [
    {
     "data": {
      "text/plain": [
       "Room\n",
       "1    3.858189e+09\n",
       "2    8.384872e+09\n",
       "3    2.206365e+10\n",
       "4    7.195625e+10\n",
       "Name: Price, dtype: float64"
      ]
     },
     "execution_count": 36,
     "metadata": {},
     "output_type": "execute_result"
    }
   ],
   "source": [
    "Hous_mean = Housing_data.groupby('Room')['Price'].mean()\n",
    "Hous_mean"
   ]
  },
  {
   "cell_type": "code",
   "execution_count": 37,
   "id": "925eb37b",
   "metadata": {
    "execution": {
     "iopub.execute_input": "2024-07-26T07:48:31.606631Z",
     "iopub.status.busy": "2024-07-26T07:48:31.606325Z",
     "iopub.status.idle": "2024-07-26T07:48:31.627545Z",
     "shell.execute_reply": "2024-07-26T07:48:31.626737Z"
    },
    "papermill": {
     "duration": 0.047706,
     "end_time": "2024-07-26T07:48:31.629441",
     "exception": false,
     "start_time": "2024-07-26T07:48:31.581735",
     "status": "completed"
    },
    "tags": []
   },
   "outputs": [
    {
     "data": {
      "text/html": [
       "<div>\n",
       "<style scoped>\n",
       "    .dataframe tbody tr th:only-of-type {\n",
       "        vertical-align: middle;\n",
       "    }\n",
       "\n",
       "    .dataframe tbody tr th {\n",
       "        vertical-align: top;\n",
       "    }\n",
       "\n",
       "    .dataframe thead th {\n",
       "        text-align: right;\n",
       "    }\n",
       "</style>\n",
       "<table border=\"1\" class=\"dataframe\">\n",
       "  <thead>\n",
       "    <tr style=\"text-align: right;\">\n",
       "      <th></th>\n",
       "      <th>Price</th>\n",
       "    </tr>\n",
       "    <tr>\n",
       "      <th>Address</th>\n",
       "      <th></th>\n",
       "    </tr>\n",
       "  </thead>\n",
       "  <tbody>\n",
       "    <tr>\n",
       "      <th>الهیه</th>\n",
       "      <td>5.880078e+10</td>\n",
       "    </tr>\n",
       "    <tr>\n",
       "      <th>زعفرانیه</th>\n",
       "      <td>5.694506e+10</td>\n",
       "    </tr>\n",
       "    <tr>\n",
       "      <th>محمودیه</th>\n",
       "      <td>4.966095e+10</td>\n",
       "    </tr>\n",
       "    <tr>\n",
       "      <th>کامرانیه</th>\n",
       "      <td>4.895503e+10</td>\n",
       "    </tr>\n",
       "    <tr>\n",
       "      <th>ولنجک</th>\n",
       "      <td>4.877739e+10</td>\n",
       "    </tr>\n",
       "    <tr>\n",
       "      <th>...</th>\n",
       "      <td>...</td>\n",
       "    </tr>\n",
       "    <tr>\n",
       "      <th>شهرک آسمان</th>\n",
       "      <td>1.675000e+09</td>\n",
       "    </tr>\n",
       "    <tr>\n",
       "      <th>شریف‌آباد</th>\n",
       "      <td>1.445250e+09</td>\n",
       "    </tr>\n",
       "    <tr>\n",
       "      <th>صالح‌آباد شرقی</th>\n",
       "      <td>1.100000e+09</td>\n",
       "    </tr>\n",
       "    <tr>\n",
       "      <th>حسن‌آباد باقرفر</th>\n",
       "      <td>1.100000e+09</td>\n",
       "    </tr>\n",
       "    <tr>\n",
       "      <th>کریم‌آباد</th>\n",
       "      <td>1.060000e+09</td>\n",
       "    </tr>\n",
       "  </tbody>\n",
       "</table>\n",
       "<p>337 rows × 1 columns</p>\n",
       "</div>"
      ],
      "text/plain": [
       "                        Price\n",
       "Address                      \n",
       "الهیه            5.880078e+10\n",
       "زعفرانیه         5.694506e+10\n",
       "محمودیه          4.966095e+10\n",
       "کامرانیه         4.895503e+10\n",
       "ولنجک            4.877739e+10\n",
       "...                       ...\n",
       "شهرک آسمان       1.675000e+09\n",
       "شریف‌آباد        1.445250e+09\n",
       "صالح‌آباد شرقی   1.100000e+09\n",
       "حسن‌آباد باقرفر  1.100000e+09\n",
       "کریم‌آباد        1.060000e+09\n",
       "\n",
       "[337 rows x 1 columns]"
      ]
     },
     "execution_count": 37,
     "metadata": {},
     "output_type": "execute_result"
    }
   ],
   "source": [
    "House_Price = pd.DataFrame(Housing_data.groupby('Address')['Price'].mean().sort_values(ascending=False))\n",
    "House_Price"
   ]
  },
  {
   "cell_type": "markdown",
   "id": "b9c96aaf",
   "metadata": {
    "papermill": {
     "duration": 0.024052,
     "end_time": "2024-07-26T07:48:31.678086",
     "exception": false,
     "start_time": "2024-07-26T07:48:31.654034",
     "status": "completed"
    },
    "tags": []
   },
   "source": [
    "The above table shows the average price of houses according to the respective neighborhood. According to these data, the most expensive houses are located in \"Elahia\" neighborhood with an average price of 59 billion tomans. Also, the prices of houses in \"Zafaranieh\" and \"Kamraniyeh\" are the second and third most expensive houses with an average of 57 and 51 billion tomans.\n",
    "Also, the cheapest houses are located in \"Karimabad\" neighborhood with an average of 1 billion and then in \"Hassanabad Bagharfar\" and \"Salehabad East\" neighborhoods with an average of 1 billion and 100 million tomans.\n",
    "\n",
    "\n",
    "The graph below shows the average price of 15 expensive and 15 cheap neighborhoods "
   ]
  },
  {
   "cell_type": "code",
   "execution_count": 38,
   "id": "69cdd8ed",
   "metadata": {
    "execution": {
     "iopub.execute_input": "2024-07-26T07:48:31.727197Z",
     "iopub.status.busy": "2024-07-26T07:48:31.726887Z",
     "iopub.status.idle": "2024-07-26T07:48:32.536191Z",
     "shell.execute_reply": "2024-07-26T07:48:32.535129Z"
    },
    "papermill": {
     "duration": 0.836682,
     "end_time": "2024-07-26T07:48:32.538593",
     "exception": false,
     "start_time": "2024-07-26T07:48:31.701911",
     "status": "completed"
    },
    "tags": []
   },
   "outputs": [
    {
     "data": {
      "image/png": "[encoded data removed]",
      "text/plain": [
       "<Figure size 800x1200 with 1 Axes>"
      ]
     },
     "metadata": {},
     "output_type": "display_data"
    }
   ],
   "source": [
    "House_Price_1 = pd.DataFrame(pd.concat([House_Price.head(15), House_Price.tail(15)])).reset_index()\n",
    "House_Price_1['Address'] = House_Price_1['Address'].apply(lambda x: get_display(arabic_reshaper.reshape(x)))\n",
    "\n",
    "fig, ax = plt.subplots(figsize=(8, 12)) \n",
    "\n",
    "plt.rcParams['font.family'] = 'DejaVu Sans'\n",
    "\n",
    "sns.barplot(data=House_Price_1, y='Address', x='Price', ax=ax, palette='viridis')\n",
    "\n",
    "for p in ax.patches:\n",
    "    width = p.get_width()\n",
    "    plt.text(width + 5, \n",
    "             p.get_y() + p.get_height() / 2,  \n",
    "             f'{int(width):,}', \n",
    "             ha='center', va='center', fontsize=10, color='black')\n",
    "\n",
    "plt.tight_layout()\n",
    "plt.show()"
   ]
  },
  {
   "cell_type": "code",
   "execution_count": 39,
   "id": "d5da057f",
   "metadata": {
    "execution": {
     "iopub.execute_input": "2024-07-26T07:48:32.592888Z",
     "iopub.status.busy": "2024-07-26T07:48:32.592544Z",
     "iopub.status.idle": "2024-07-26T07:53:27.035997Z",
     "shell.execute_reply": "2024-07-26T07:53:27.035126Z"
    },
    "papermill": {
     "duration": 294.500833,
     "end_time": "2024-07-26T07:53:27.065521",
     "exception": false,
     "start_time": "2024-07-26T07:48:32.564688",
     "status": "completed"
    },
    "tags": []
   },
   "outputs": [
    {
     "data": {
      "image/png": "[encoded data removed]",
      "text/plain": [
       "<Figure size 800x1200 with 1 Axes>"
      ]
     },
     "metadata": {},
     "output_type": "display_data"
    }
   ],
   "source": [
    "df = Housing_data['Address'].apply(lambda x: get_display(arabic_reshaper.reshape(x))).value_counts().sort_values(ascending=False)\n",
    "df = df[:20]\n",
    "\n",
    "fig, ax = plt.subplots(figsize=(8, 12))\n",
    "\n",
    "plt.rcParams['font.family'] = 'DejaVu Sans'\n",
    "\n",
    "sns.barplot(x=df.values, y=df.index, ax=ax, palette='viridis')\n",
    "\n",
    "for p in ax.patches:\n",
    "    width = p.get_width()\n",
    "    plt.text(width + 1, \n",
    "             p.get_y() + p.get_height() / 2, \n",
    "             f'{int(width):,}',  \n",
    "             ha='center', va='center', fontsize=10, color='black')\n",
    "\n",
    "plt.xlabel('Numerical Amount of Flats')\n",
    "plt.title('Number of Flats in Location')\n",
    "\n",
    "plt.tight_layout()\n",
    "plt.show()"
   ]
  },
  {
   "cell_type": "markdown",
   "id": "27a86859",
   "metadata": {
    "papermill": {
     "duration": 0.026379,
     "end_time": "2024-07-26T07:53:27.118188",
     "exception": false,
     "start_time": "2024-07-26T07:53:27.091809",
     "status": "completed"
    },
    "tags": []
   },
   "source": [
    "The chart above shows the 20 neighborhoods with the highest number of homes advertised."
   ]
  },
  {
   "cell_type": "code",
   "execution_count": 40,
   "id": "a3709ece",
   "metadata": {
    "execution": {
     "iopub.execute_input": "2024-07-26T07:53:27.171891Z",
     "iopub.status.busy": "2024-07-26T07:53:27.171346Z",
     "iopub.status.idle": "2024-07-26T07:54:19.079037Z",
     "shell.execute_reply": "2024-07-26T07:54:19.078068Z"
    },
    "papermill": {
     "duration": 51.968109,
     "end_time": "2024-07-26T07:54:19.112425",
     "exception": false,
     "start_time": "2024-07-26T07:53:27.144316",
     "status": "completed"
    },
    "tags": []
   },
   "outputs": [
    {
     "data": {
      "text/plain": [
       "<seaborn.axisgrid.PairGrid at 0x7e6ee4428400>"
      ]
     },
     "execution_count": 40,
     "metadata": {},
     "output_type": "execute_result"
    },
    {
     "data": {
      "image/png": "[encoded data removed]",
      "text/plain": [
       "<Figure size 1750x1750 with 56 Axes>"
      ]
     },
     "metadata": {},
     "output_type": "display_data"
    }
   ],
   "source": [
    "sns.pairplot(data=Housing_data)"
   ]
  },
  {
   "cell_type": "markdown",
   "id": "273c2d41",
   "metadata": {
    "papermill": {
     "duration": 0.028614,
     "end_time": "2024-07-26T07:54:19.170162",
     "exception": false,
     "start_time": "2024-07-26T07:54:19.141548",
     "status": "completed"
    },
    "tags": []
   },
   "source": [
    "The above chart compares the features in the data set two by two.\n",
    "The following results can be obtained from these graphs.\n",
    "\n",
    "\n",
    "- The newer the house, the higher the price, except for outliers\n",
    "- The less the number of rooms, the cheaper the house\n",
    "- If the house has parking, storage or elevator, the price of the house will increase.\n",
    "- Larger houses are often built in recent years.\n",
    "- All the houses that don't have parking, storage and elevator are small in size"
   ]
  },
  {
   "cell_type": "markdown",
   "id": "bc6433b8",
   "metadata": {
    "papermill": {
     "duration": 0.028863,
     "end_time": "2024-07-26T07:54:19.228491",
     "exception": false,
     "start_time": "2024-07-26T07:54:19.199628",
     "status": "completed"
    },
    "tags": []
   },
   "source": [
    "## PreProcessing _ Part 2"
   ]
  },
  {
   "cell_type": "markdown",
   "id": "e31746ca",
   "metadata": {
    "papermill": {
     "duration": 0.029325,
     "end_time": "2024-07-26T07:54:19.286837",
     "exception": false,
     "start_time": "2024-07-26T07:54:19.257512",
     "status": "completed"
    },
    "tags": []
   },
   "source": [
    "In this section, we will first check the distribution of the data and whether there are outliers in the data or not. If there are any, we remove them and continue the rest of the preprocessing process to prepare the data for training."
   ]
  },
  {
   "cell_type": "code",
   "execution_count": 41,
   "id": "34dd2908",
   "metadata": {
    "execution": {
     "iopub.execute_input": "2024-07-26T07:54:19.349394Z",
     "iopub.status.busy": "2024-07-26T07:54:19.348544Z",
     "iopub.status.idle": "2024-07-26T07:54:19.354435Z",
     "shell.execute_reply": "2024-07-26T07:54:19.353601Z"
    },
    "papermill": {
     "duration": 0.03873,
     "end_time": "2024-07-26T07:54:19.356448",
     "exception": false,
     "start_time": "2024-07-26T07:54:19.317718",
     "status": "completed"
    },
    "tags": []
   },
   "outputs": [],
   "source": [
    "Housing_data['m'] = Housing_data['Price'] / Housing_data['Area']"
   ]
  },
  {
   "cell_type": "code",
   "execution_count": 42,
   "id": "fc531c28",
   "metadata": {
    "execution": {
     "iopub.execute_input": "2024-07-26T07:54:19.423021Z",
     "iopub.status.busy": "2024-07-26T07:54:19.422273Z",
     "iopub.status.idle": "2024-07-26T07:54:19.427344Z",
     "shell.execute_reply": "2024-07-26T07:54:19.426450Z"
    },
    "papermill": {
     "duration": 0.04168,
     "end_time": "2024-07-26T07:54:19.429452",
     "exception": false,
     "start_time": "2024-07-26T07:54:19.387772",
     "status": "completed"
    },
    "tags": []
   },
   "outputs": [],
   "source": [
    "def m(m):\n",
    "    if (isinstance(m, float)):\n",
    "        return m\n",
    "    elif (isinstance(m, int)):\n",
    "        return m\n",
    "    else:\n",
    "        return np.nan"
   ]
  },
  {
   "cell_type": "code",
   "execution_count": 43,
   "id": "a4d0b6d9",
   "metadata": {
    "execution": {
     "iopub.execute_input": "2024-07-26T07:54:19.489676Z",
     "iopub.status.busy": "2024-07-26T07:54:19.489179Z",
     "iopub.status.idle": "2024-07-26T07:54:19.544198Z",
     "shell.execute_reply": "2024-07-26T07:54:19.543327Z"
    },
    "papermill": {
     "duration": 0.0874,
     "end_time": "2024-07-26T07:54:19.546276",
     "exception": false,
     "start_time": "2024-07-26T07:54:19.458876",
     "status": "completed"
    },
    "tags": []
   },
   "outputs": [
    {
     "data": {
      "text/html": [
       "<div>\n",
       "<style scoped>\n",
       "    .dataframe tbody tr th:only-of-type {\n",
       "        vertical-align: middle;\n",
       "    }\n",
       "\n",
       "    .dataframe tbody tr th {\n",
       "        vertical-align: top;\n",
       "    }\n",
       "\n",
       "    .dataframe thead th {\n",
       "        text-align: right;\n",
       "    }\n",
       "</style>\n",
       "<table border=\"1\" class=\"dataframe\">\n",
       "  <thead>\n",
       "    <tr style=\"text-align: right;\">\n",
       "      <th></th>\n",
       "      <th>Area</th>\n",
       "      <th>Construction</th>\n",
       "      <th>Room</th>\n",
       "      <th>Warehouse</th>\n",
       "      <th>Parking</th>\n",
       "      <th>Elevator</th>\n",
       "      <th>Address</th>\n",
       "      <th>Price</th>\n",
       "      <th>m</th>\n",
       "    </tr>\n",
       "  </thead>\n",
       "  <tbody>\n",
       "    <tr>\n",
       "      <th>0</th>\n",
       "      <td>153</td>\n",
       "      <td>1393</td>\n",
       "      <td>3</td>\n",
       "      <td>True</td>\n",
       "      <td>True</td>\n",
       "      <td>True</td>\n",
       "      <td>درکه</td>\n",
       "      <td>1.836000e+10</td>\n",
       "      <td>1.200000e+08</td>\n",
       "    </tr>\n",
       "    <tr>\n",
       "      <th>1</th>\n",
       "      <td>418</td>\n",
       "      <td>1382</td>\n",
       "      <td>4</td>\n",
       "      <td>True</td>\n",
       "      <td>True</td>\n",
       "      <td>True</td>\n",
       "      <td>زعفرانیه</td>\n",
       "      <td>1.300000e+11</td>\n",
       "      <td>3.110048e+08</td>\n",
       "    </tr>\n",
       "    <tr>\n",
       "      <th>2</th>\n",
       "      <td>57</td>\n",
       "      <td>1385</td>\n",
       "      <td>2</td>\n",
       "      <td>False</td>\n",
       "      <td>False</td>\n",
       "      <td>True</td>\n",
       "      <td>جابری</td>\n",
       "      <td>2.600000e+09</td>\n",
       "      <td>4.561404e+07</td>\n",
       "    </tr>\n",
       "    <tr>\n",
       "      <th>3</th>\n",
       "      <td>193</td>\n",
       "      <td>1371</td>\n",
       "      <td>3</td>\n",
       "      <td>False</td>\n",
       "      <td>False</td>\n",
       "      <td>True</td>\n",
       "      <td>فرمانیه</td>\n",
       "      <td>2.300000e+10</td>\n",
       "      <td>1.191710e+08</td>\n",
       "    </tr>\n",
       "    <tr>\n",
       "      <th>4</th>\n",
       "      <td>62</td>\n",
       "      <td>1401</td>\n",
       "      <td>1</td>\n",
       "      <td>True</td>\n",
       "      <td>True</td>\n",
       "      <td>True</td>\n",
       "      <td>دهکده المپیک</td>\n",
       "      <td>1.410000e+09</td>\n",
       "      <td>2.274194e+07</td>\n",
       "    </tr>\n",
       "    <tr>\n",
       "      <th>...</th>\n",
       "      <td>...</td>\n",
       "      <td>...</td>\n",
       "      <td>...</td>\n",
       "      <td>...</td>\n",
       "      <td>...</td>\n",
       "      <td>...</td>\n",
       "      <td>...</td>\n",
       "      <td>...</td>\n",
       "      <td>...</td>\n",
       "    </tr>\n",
       "    <tr>\n",
       "      <th>93785</th>\n",
       "      <td>181</td>\n",
       "      <td>1393</td>\n",
       "      <td>3</td>\n",
       "      <td>True</td>\n",
       "      <td>True</td>\n",
       "      <td>True</td>\n",
       "      <td>جردن</td>\n",
       "      <td>1.800000e+10</td>\n",
       "      <td>9.944751e+07</td>\n",
       "    </tr>\n",
       "    <tr>\n",
       "      <th>93786</th>\n",
       "      <td>121</td>\n",
       "      <td>1400</td>\n",
       "      <td>3</td>\n",
       "      <td>True</td>\n",
       "      <td>True</td>\n",
       "      <td>True</td>\n",
       "      <td>اباذر</td>\n",
       "      <td>1.380000e+10</td>\n",
       "      <td>1.140496e+08</td>\n",
       "    </tr>\n",
       "    <tr>\n",
       "      <th>93787</th>\n",
       "      <td>140</td>\n",
       "      <td>1400</td>\n",
       "      <td>3</td>\n",
       "      <td>True</td>\n",
       "      <td>True</td>\n",
       "      <td>True</td>\n",
       "      <td>آبشار تهران</td>\n",
       "      <td>9.860000e+09</td>\n",
       "      <td>7.042857e+07</td>\n",
       "    </tr>\n",
       "    <tr>\n",
       "      <th>93788</th>\n",
       "      <td>105</td>\n",
       "      <td>1398</td>\n",
       "      <td>2</td>\n",
       "      <td>True</td>\n",
       "      <td>True</td>\n",
       "      <td>True</td>\n",
       "      <td>اوقاف</td>\n",
       "      <td>6.430000e+09</td>\n",
       "      <td>6.123810e+07</td>\n",
       "    </tr>\n",
       "    <tr>\n",
       "      <th>93789</th>\n",
       "      <td>51</td>\n",
       "      <td>1385</td>\n",
       "      <td>1</td>\n",
       "      <td>True</td>\n",
       "      <td>True</td>\n",
       "      <td>True</td>\n",
       "      <td>سلسبیل</td>\n",
       "      <td>3.100000e+09</td>\n",
       "      <td>6.078431e+07</td>\n",
       "    </tr>\n",
       "  </tbody>\n",
       "</table>\n",
       "<p>89497 rows × 9 columns</p>\n",
       "</div>"
      ],
      "text/plain": [
       "       Area  Construction  Room  Warehouse  Parking  Elevator       Address  \\\n",
       "0       153          1393     3       True     True      True          درکه   \n",
       "1       418          1382     4       True     True      True      زعفرانیه   \n",
       "2        57          1385     2      False    False      True         جابری   \n",
       "3       193          1371     3      False    False      True       فرمانیه   \n",
       "4        62          1401     1       True     True      True  دهکده المپیک   \n",
       "...     ...           ...   ...        ...      ...       ...           ...   \n",
       "93785   181          1393     3       True     True      True          جردن   \n",
       "93786   121          1400     3       True     True      True         اباذر   \n",
       "93787   140          1400     3       True     True      True   آبشار تهران   \n",
       "93788   105          1398     2       True     True      True         اوقاف   \n",
       "93789    51          1385     1       True     True      True        سلسبیل   \n",
       "\n",
       "              Price             m  \n",
       "0      1.836000e+10  1.200000e+08  \n",
       "1      1.300000e+11  3.110048e+08  \n",
       "2      2.600000e+09  4.561404e+07  \n",
       "3      2.300000e+10  1.191710e+08  \n",
       "4      1.410000e+09  2.274194e+07  \n",
       "...             ...           ...  \n",
       "93785  1.800000e+10  9.944751e+07  \n",
       "93786  1.380000e+10  1.140496e+08  \n",
       "93787  9.860000e+09  7.042857e+07  \n",
       "93788  6.430000e+09  6.123810e+07  \n",
       "93789  3.100000e+09  6.078431e+07  \n",
       "\n",
       "[89497 rows x 9 columns]"
      ]
     },
     "execution_count": 43,
     "metadata": {},
     "output_type": "execute_result"
    }
   ],
   "source": [
    "Housing_data['m'] = Housing_data['m'].apply(m)\n",
    "Housing_data"
   ]
  },
  {
   "cell_type": "code",
   "execution_count": 44,
   "id": "842ef98f",
   "metadata": {
    "execution": {
     "iopub.execute_input": "2024-07-26T07:54:19.609912Z",
     "iopub.status.busy": "2024-07-26T07:54:19.609598Z",
     "iopub.status.idle": "2024-07-26T07:54:48.387427Z",
     "shell.execute_reply": "2024-07-26T07:54:48.386449Z"
    },
    "papermill": {
     "duration": 28.811546,
     "end_time": "2024-07-26T07:54:48.389855",
     "exception": false,
     "start_time": "2024-07-26T07:54:19.578309",
     "status": "completed"
    },
    "tags": []
   },
   "outputs": [
    {
     "name": "stdout",
     "output_type": "stream",
     "text": [
      "درکه 2\n",
      "2\n",
      "زعفرانیه 3\n",
      "9\n",
      "جابری 4\n",
      "9\n",
      "فرمانیه 5\n",
      "28\n",
      "دهکده المپیک 6\n",
      "29\n",
      "حکیمیه 7\n",
      "30\n",
      "شهرک غرب 8\n",
      "46\n",
      "سعادت‌آباد 9\n",
      "67\n",
      "خاوران 10\n",
      "67\n",
      "سازمان آب 11\n",
      "70\n",
      "مرزداران 12\n",
      "75\n",
      "دارآباد 13\n",
      "75\n",
      "الهیه 14\n",
      "83\n",
      "شاهین 15\n",
      "85\n",
      "شهر زیبا 16\n",
      "86\n",
      "سازمان برنامه 17\n",
      "94\n",
      "باغ فیض 18\n",
      "95\n",
      "جنت‌آباد مرکزی 19\n",
      "96\n",
      "پونک 20\n",
      "100\n",
      "نیاوران 21\n",
      "104\n",
      "جیحون 22\n",
      "110\n",
      "سیدخندان 23\n",
      "112\n",
      "نارمک 24\n",
      "126\n",
      "سهروردی 25\n",
      "128\n",
      "ازگل 26\n",
      "129\n",
      "چیتگر 27\n",
      "131\n",
      "دروس 28\n",
      "137\n",
      "هروی 29\n",
      "139\n",
      "جمهوری 30\n",
      "140\n",
      "تهرانپارس غربی 31\n",
      "143\n",
      "دریاچه شهدای خلیج فارس 32\n",
      "156\n",
      "نیلوفر 33\n",
      "157\n",
      "میرداماد 34\n",
      "159\n",
      "قیطریه 35\n",
      "165\n",
      "سوهانک 36\n",
      "168\n",
      "کوی فردوس 37\n",
      "171\n",
      "جنت‌آباد جنوبی 38\n",
      "173\n",
      "تهران‌سر 39\n",
      "178\n",
      "استاد معین 40\n",
      "180\n",
      "اختیاریه 41\n",
      "183\n",
      "طیب 42\n",
      "183\n",
      "ستارخان 43\n",
      "186\n",
      "کاظم‌آباد 44\n",
      "187\n",
      "شهرک ولیعصر 45\n",
      "189\n",
      "دریا 46\n",
      "191\n",
      "شهران جنوبی 47\n",
      "197\n",
      "ونک 48\n",
      "199\n",
      "حصار بوعلی 49\n",
      "201\n",
      "شهرک پرواز 50\n",
      "202\n",
      "بهار 51\n",
      "204\n",
      "گیشا (کوی نصر) 52\n",
      "205\n",
      "المهدی 53\n",
      "205\n",
      "اباذر 54\n",
      "208\n",
      "شکوفه 55\n",
      "209\n",
      "شمس‌آباد 56\n",
      "210\n",
      "کوی فراز 57\n",
      "210\n",
      "شهرک نفت (منطقه ۵) 58\n",
      "212\n",
      "اندیشه (شهر زیبا) 59\n",
      "247\n",
      "سرو آزاد 60\n",
      "247\n",
      "جردن 61\n",
      "249\n",
      "آذربایجان 62\n",
      "251\n",
      "بلوار کشاورز 63\n",
      "251\n",
      "میدان حر 64\n",
      "251\n",
      "شهران شمالی 65\n",
      "270\n",
      "کوی مهران 66\n",
      "270\n",
      "وردآورد 67\n",
      "271\n",
      "ولنجک 68\n",
      "274\n",
      "پیروزی 69\n",
      "280\n",
      "عبدل‌آباد 70\n",
      "281\n",
      "یوسف‌آباد 71\n",
      "285\n",
      "امیرآباد 72\n",
      "288\n",
      "محمودیه 73\n",
      "290\n",
      "گرگان 74\n",
      "291\n",
      "جی 75\n",
      "292\n",
      "نواب 76\n",
      "293\n",
      "شهرآرا 77\n",
      "294\n",
      "پاسداران 78\n",
      "298\n",
      "خلیج فارس 79\n",
      "302\n",
      "ظفر 80\n",
      "304\n",
      "شادمهر 81\n",
      "304\n",
      "نارمک جنوبی 82\n",
      "306\n",
      "اقدسیه 83\n",
      "321\n",
      "هوانیروز 84\n",
      "321\n",
      "طرشت 85\n",
      "322\n",
      "شهرک راه‌آهن 86\n",
      "325\n",
      "منصوریه (پل سیمان) 87\n",
      "325\n",
      "توحید 88\n",
      "326\n",
      "امامزاده قاسم 89\n",
      "327\n",
      "دیلمان 90\n",
      "328\n",
      "افسریه 91\n",
      "330\n",
      "گلاب دره 92\n",
      "331\n",
      "جلفا 93\n",
      "331\n",
      "کرمان 94\n",
      "331\n",
      "تهران‌ویلا 95\n",
      "332\n",
      "عباس‌آباد 96\n",
      "332\n",
      "دزاشیب 97\n",
      "333\n",
      "جنت‌آباد شمالی 98\n",
      "338\n",
      "شارق شرقی 99\n",
      "338\n",
      "سلسبیل 100\n",
      "339\n",
      "هاشم‌آباد 101\n",
      "340\n",
      "ابوذر (منطقه ۱۵) 102\n",
      "342\n",
      "شهرک فردوس 103\n",
      "343\n",
      "شهرک محلاتی 104\n",
      "344\n",
      "سلیمانی 105\n",
      "346\n",
      "مبارک‌آباد بهشتی 106\n",
      "347\n",
      "سبلان 107\n",
      "348\n",
      "کوهک 108\n",
      "349\n",
      "تاکسیرانی 109\n",
      "349\n",
      "گاندی 110\n",
      "349\n",
      "قبا 111\n",
      "349\n",
      "تجریش 112\n",
      "350\n",
      "میدان ولیعصر 113\n",
      "351\n",
      "صد دستگاه 114\n",
      "351\n",
      "آرارات 115\n",
      "351\n",
      "سنگلج 116\n",
      "353\n",
      "پلیس 117\n",
      "354\n",
      "صادقیه 118\n",
      "364\n",
      "توانیر 119\n",
      "364\n",
      "تهرانپارس شرقی 120\n",
      "366\n",
      "دولتخواه 121\n",
      "367\n",
      "بریانک 122\n",
      "368\n",
      "اراج 123\n",
      "368\n",
      "آبشار 124\n",
      "368\n",
      "شهرک دریا 125\n",
      "368\n",
      "شادآباد 126\n",
      "369\n",
      "فلاح 127\n",
      "371\n",
      "زمزم 128\n",
      "372\n",
      "گمرک 129\n",
      "372\n",
      "دروازه شمیران 130\n",
      "373\n",
      "آهنگ 131\n",
      "377\n",
      "کامرانیه 132\n",
      "378\n",
      "امیر بهادر 133\n",
      "378\n",
      "چیذر 134\n",
      "379\n",
      "مینا 135\n",
      "379\n",
      "هاشمی 136\n",
      "380\n",
      "حشمتیه 137\n",
      "381\n",
      "دکتر هوشیار 138\n",
      "383\n",
      "دانشگاه شریف 139\n",
      "383\n",
      "صاحب الزمان 140\n",
      "384\n",
      "جمال‌زاده 141\n",
      "385\n",
      "کوی بیمه 142\n",
      "386\n",
      "شریف‌آباد 143\n",
      "387\n",
      "گلچین 144\n",
      "387\n",
      "سپهر 145\n",
      "387\n",
      "تهران‌نو 146\n",
      "387\n",
      "مدائن 147\n",
      "387\n",
      "جوادیه 148\n",
      "389\n",
      "اسکندری 149\n",
      "390\n",
      "خانی‌آباد 150\n",
      "391\n",
      "پرستار 151\n",
      "393\n",
      "اتابک 152\n",
      "393\n",
      "مولوی 153\n",
      "394\n",
      "حسین‌آباد 154\n",
      "395\n",
      "حکمت 155\n",
      "397\n",
      "نصرت 156\n",
      "397\n",
      "امام سجاد(ع) 157\n",
      "397\n",
      "کوی هفدهم شهریور 158\n",
      "397\n",
      "یافت‌آباد 159\n",
      "398\n",
      "تولید دارو 160\n",
      "398\n",
      "کوثر 161\n",
      "398\n",
      "دولت‌آباد 162\n",
      "400\n",
      "مسعودیه 163\n",
      "401\n",
      "باغ فردوس 164\n",
      "401\n",
      "نازی‌آباد 165\n",
      "402\n",
      "شهرک نفت (منطقه ۱) 166\n",
      "403\n",
      "نیرو هوایی 167\n",
      "408\n",
      "شریف 168\n",
      "409\n",
      "دربند 169\n",
      "410\n",
      "سرآسیاب مهرآباد 170\n",
      "410\n",
      "ارم 171\n",
      "411\n",
      "ایران 172\n",
      "411\n",
      "زهتابی 173\n",
      "412\n",
      "شوش 174\n",
      "413\n",
      "هفت چنار 175\n",
      "414\n",
      "مجیدیه 176\n",
      "414\n",
      "منیریه 177\n",
      "416\n",
      "امیریه 178\n",
      "417\n",
      "باغ خزانه 179\n",
      "417\n",
      "شهید دستغیب 180\n",
      "418\n",
      "شهرک ژاندارمری 181\n",
      "419\n",
      "آشتیانی 182\n",
      "419\n",
      "آجودانیه 183\n",
      "420\n",
      "دانشگاه علم و صنعت 184\n",
      "420\n",
      "دلگشا 185\n",
      "420\n",
      "دریان‌نو 186\n",
      "422\n",
      "زنجان 187\n",
      "423\n",
      "خزانه 188\n",
      "423\n",
      "مقدم 189\n",
      "423\n",
      "خواجه نظام الملک 190\n",
      "423\n",
      "شیخ هادی 191\n",
      "423\n",
      "خاقانی 192\n",
      "423\n",
      "فاطمی 193\n",
      "423\n",
      "شبیری 194\n",
      "423\n",
      "قلهک 195\n",
      "424\n",
      "هفت حوض 196\n",
      "425\n",
      "شهرک پاسداران 197\n",
      "425\n",
      "فدک 198\n",
      "425\n",
      "چهارصد دستگاه 199\n",
      "425\n",
      "امانیه 200\n",
      "426\n",
      "امامت 201\n",
      "426\n",
      "شهرک آزادی 202\n",
      "426\n",
      "پاتریس لومومبا 203\n",
      "427\n",
      "مهرآباد جنوبی 204\n",
      "429\n",
      "مخصوص 205\n",
      "431\n",
      "وحیدیه 206\n",
      "431\n",
      "زرگنده 207\n",
      "431\n",
      "دبستان 208\n",
      "432\n",
      "مشیریه 209\n",
      "433\n",
      "آذری 210\n",
      "434\n",
      "شاهد 211\n",
      "434\n",
      "جلیلی 212\n",
      "434\n",
      "لویزان 213\n",
      "434\n",
      "شهرک امام خمینی 214\n",
      "434\n",
      "صفا 215\n",
      "434\n",
      "شیوا 216\n",
      "434\n",
      "شهرک شهید باقری 217\n",
      "434\n",
      "شیان 218\n",
      "435\n",
      "کاشانک 219\n",
      "436\n",
      "آبشار تهران 220\n",
      "438\n",
      "سرخه حصار 221\n",
      "438\n",
      "دانشگاه تهران 222\n",
      "438\n",
      "خواجه نصیر طوسی 223\n",
      "439\n",
      "سرتخت 224\n",
      "439\n",
      "کن 225\n",
      "440\n",
      "درب دوم 226\n",
      "440\n",
      "شهرک کوهسار 227\n",
      "441\n",
      "استخر 228\n",
      "444\n",
      "یاخچی‌آباد 229\n",
      "444\n",
      "دردشت 230\n",
      "444\n",
      "اکباتان 231\n",
      "445\n",
      "میدان انقلاب 232\n",
      "445\n",
      "نبی اکرم(ص) 233\n",
      "445\n",
      "اوقاف 234\n",
      "447\n",
      "قاسم‌آباد 235\n",
      "447\n",
      "امامزاده حسن(ع) 236\n",
      "448\n",
      "بهاران 237\n",
      "448\n",
      "کاروان 238\n",
      "450\n",
      "سنایی 239\n",
      "451\n",
      "قزل قلعه 240\n",
      "451\n",
      "دولاب 241\n",
      "451\n",
      "بلورسازی 242\n",
      "451\n",
      "ایوانک 243\n",
      "451\n",
      "ائمه اطهار 244\n",
      "451\n",
      "بهجت‌آباد 245\n",
      "451\n",
      "نجات اللهی 246\n",
      "451\n",
      "ایرانشهر 247\n",
      "452\n",
      "آرژانتین 248\n",
      "453\n",
      "مجیدآباد 249\n",
      "453\n",
      "شهرک سینمایی 250\n",
      "453\n",
      "اوین 251\n",
      "453\n",
      "قیام 252\n",
      "454\n",
      "طوس 253\n",
      "454\n",
      "جهاد 254\n",
      "454\n",
      "شهرک شریعتی 255\n",
      "455\n",
      "امام حسین(ع) 256\n",
      "455\n",
      "حسن‌آباد 257\n",
      "455\n",
      "شهرک صدرا 258\n",
      "455\n",
      "عارف 259\n",
      "455\n",
      "جماران 260\n",
      "456\n",
      "ارامنه 261\n",
      "456\n",
      "نظام‌آباد 262\n",
      "456\n",
      "تسلیحات 263\n",
      "457\n",
      "وصفنارد 264\n",
      "458\n",
      "آسمان 265\n",
      "458\n",
      "شهرک والفجر (منطقه ۶) 266\n",
      "458\n",
      "فردوسی 267\n",
      "458\n",
      "ابراهیم‌آباد 268\n",
      "458\n",
      "بازار 269\n",
      "458\n",
      "ظهیرآباد 270\n",
      "458\n",
      "علی‌آباد 271\n",
      "458\n",
      "ابن بابویه 272\n",
      "458\n",
      "حمزه‌آباد 273\n",
      "458\n",
      "قنات‌کوثر 274\n",
      "458\n",
      "جوادیه تهرانپارس 275\n",
      "459\n",
      "بهمن یار 276\n",
      "459\n",
      "شهرک دانشگاه تهران 277\n",
      "459\n",
      "شهرک کیانشهر 278\n",
      "459\n",
      "مینابی 279\n",
      "459\n",
      "بهارستان 280\n",
      "459\n",
      "قیام‌دشت 281\n",
      "460\n",
      "خاک سفید 282\n",
      "460\n",
      "شهرک امید 283\n",
      "460\n",
      "فرحزاد 284\n",
      "460\n",
      "بهداشت 285\n",
      "460\n",
      "سیزده آبان 286\n",
      "461\n",
      "شمشیری 287\n",
      "461\n",
      "ده‌ونک 288\n",
      "461\n",
      "صفائیه (چشمه علی) 289\n",
      "461\n",
      "خانی‌آباد نو 290\n",
      "462\n",
      "کوی نوبنیاد 291\n",
      "462\n",
      "فیروزآبادی 292\n",
      "462\n",
      "حافظیه 293\n",
      "462\n",
      "شهید آوینی 294\n",
      "462\n",
      "شهرک آسمان 295\n",
      "462\n",
      "دهقان 296\n",
      "462\n",
      "سلامت 297\n",
      "463\n",
      "شهید بروجردی 298\n",
      "463\n",
      "شهادت 299\n",
      "463\n",
      "بیسیم 300\n",
      "463\n",
      "شهرک تختی 301\n",
      "463\n",
      "زرکش 302\n",
      "463\n",
      "پامنار 303\n",
      "463\n",
      "حصارک 304\n",
      "463\n",
      "لشکر 305\n",
      "463\n",
      "شیرازی 306\n",
      "463\n",
      "شاندیز 307\n",
      "463\n",
      "سعیدآباد 308\n",
      "464\n",
      "امین حضور 309\n",
      "464\n",
      "سیروس 310\n",
      "464\n",
      "جوانمرد قصاب 311\n",
      "464\n",
      "هزارسنگ 312\n",
      "464\n",
      "مرادآباد 313\n",
      "464\n",
      "شمیران‌نو 314\n",
      "465\n",
      "شهرک آپادانا 315\n",
      "465\n",
      "شهرک طالقانی 316\n",
      "465\n",
      "شهید رجایی 317\n",
      "465\n",
      "زاهد گیلانی 318\n",
      "465\n",
      "شهرک گلها 319\n",
      "465\n",
      "اتحاد 320\n",
      "465\n",
      "اسفندیاری 321\n",
      "465\n",
      "زیبادشت 322\n",
      "465\n",
      "سرآسیاب دولاب 323\n",
      "465\n",
      "حسن‌آباد باقرفر 324\n",
      "465\n",
      "قلمستان 325\n",
      "465\n",
      "باغ آذری 326\n",
      "465\n",
      "ملک‌آباد 327\n",
      "465\n",
      "شهرک مسلمین 328\n",
      "465\n",
      "نعمت‌آباد 329\n",
      "465\n",
      "کریم‌آباد 330\n",
      "465\n",
      "صالح‌آباد شرقی 331\n",
      "465\n",
      "شهرک ابوذر 332\n",
      "465\n",
      "مسگرآباد 333\n",
      "465\n",
      "شهید اسدی 334\n",
      "465\n",
      "شهرک غزالی 335\n",
      "465\n",
      "فتح 336\n",
      "465\n",
      "شهرک فرهنگیان 337\n",
      "465\n",
      "شهرک شریفی 338\n",
      "465\n"
     ]
    }
   ],
   "source": [
    "c = 1\n",
    "p = 0\n",
    "Housing_data = Housing_data.copy()\n",
    "zone = list(Housing_data.Address.unique())\n",
    "for i in zone:\n",
    "    m = Housing_data[Housing_data['Address'] == i]['m'].mean()\n",
    "    s = Housing_data[Housing_data['Address'] == i]['m'].std() \n",
    "    c +=1 \n",
    "    print(i, c)\n",
    "    for j in Housing_data[Housing_data['Address'] == i].index:\n",
    "        if (Housing_data.loc[j]['m'] > m + 3*s) or (Housing_data.loc[j]['m'] < m - 3 * s):\n",
    "            Housing_data.drop(j, inplace= True)\n",
    "            p += 1\n",
    "    print(p)"
   ]
  },
  {
   "cell_type": "code",
   "execution_count": 45,
   "id": "e0f335e9",
   "metadata": {
    "execution": {
     "iopub.execute_input": "2024-07-26T07:54:48.471698Z",
     "iopub.status.busy": "2024-07-26T07:54:48.471362Z",
     "iopub.status.idle": "2024-07-26T07:54:48.477383Z",
     "shell.execute_reply": "2024-07-26T07:54:48.476511Z"
    },
    "papermill": {
     "duration": 0.04808,
     "end_time": "2024-07-26T07:54:48.479312",
     "exception": false,
     "start_time": "2024-07-26T07:54:48.431232",
     "status": "completed"
    },
    "tags": []
   },
   "outputs": [
    {
     "data": {
      "text/plain": [
       "(89032, 9)"
      ]
     },
     "execution_count": 45,
     "metadata": {},
     "output_type": "execute_result"
    }
   ],
   "source": [
    "Housing_data.shape"
   ]
  },
  {
   "cell_type": "markdown",
   "id": "e2e12892",
   "metadata": {
    "papermill": {
     "duration": 0.038489,
     "end_time": "2024-07-26T07:54:48.556540",
     "exception": false,
     "start_time": "2024-07-26T07:54:48.518051",
     "status": "completed"
    },
    "tags": []
   },
   "source": [
    "As it is known, warehouse, parking and elevator data are of binary type that can be converted to 0-1. Also, the data related to the location of the house is of the object type, which needs to be converted into a numerical value.\n",
    "\n",
    "There are several ways to encode data:\n",
    "\n",
    "- Replace with arbitrary values\n",
    "- labelencoding method\n",
    "- Onehot encoding method\n",
    "\n",
    "In the first two methods, since the number of classes is diverse and large and it is supposed to be filled from 1 to 337, this feature may be mistaken for different weight data, so it is better to use the onehot encoding method to calculate the correct weight for each location."
   ]
  },
  {
   "cell_type": "code",
   "execution_count": 46,
   "id": "d6c24f65",
   "metadata": {
    "execution": {
     "iopub.execute_input": "2024-07-26T07:54:48.634709Z",
     "iopub.status.busy": "2024-07-26T07:54:48.634382Z",
     "iopub.status.idle": "2024-07-26T07:54:49.038911Z",
     "shell.execute_reply": "2024-07-26T07:54:49.037882Z"
    },
    "papermill": {
     "duration": 0.446523,
     "end_time": "2024-07-26T07:54:49.041435",
     "exception": false,
     "start_time": "2024-07-26T07:54:48.594912",
     "status": "completed"
    },
    "tags": []
   },
   "outputs": [
    {
     "data": {
      "text/html": [
       "<div>\n",
       "<style scoped>\n",
       "    .dataframe tbody tr th:only-of-type {\n",
       "        vertical-align: middle;\n",
       "    }\n",
       "\n",
       "    .dataframe tbody tr th {\n",
       "        vertical-align: top;\n",
       "    }\n",
       "\n",
       "    .dataframe thead th {\n",
       "        text-align: right;\n",
       "    }\n",
       "</style>\n",
       "<table border=\"1\" class=\"dataframe\">\n",
       "  <thead>\n",
       "    <tr style=\"text-align: right;\">\n",
       "      <th></th>\n",
       "      <th>Area</th>\n",
       "      <th>Construction</th>\n",
       "      <th>Room</th>\n",
       "      <th>Warehouse</th>\n",
       "      <th>Parking</th>\n",
       "      <th>Elevator</th>\n",
       "      <th>Price</th>\n",
       "      <th>m</th>\n",
       "      <th>آبشار تهران</th>\n",
       "      <th>آجودانیه</th>\n",
       "      <th>...</th>\n",
       "      <th>کوی هفدهم شهریور</th>\n",
       "      <th>گاندی</th>\n",
       "      <th>گرگان</th>\n",
       "      <th>گلاب دره</th>\n",
       "      <th>گلچین</th>\n",
       "      <th>گمرک</th>\n",
       "      <th>گیشا (کوی نصر)</th>\n",
       "      <th>یاخچی‌آباد</th>\n",
       "      <th>یافت‌آباد</th>\n",
       "      <th>یوسف‌آباد</th>\n",
       "    </tr>\n",
       "  </thead>\n",
       "  <tbody>\n",
       "    <tr>\n",
       "      <th>0</th>\n",
       "      <td>153</td>\n",
       "      <td>1393</td>\n",
       "      <td>3</td>\n",
       "      <td>1</td>\n",
       "      <td>1</td>\n",
       "      <td>1</td>\n",
       "      <td>1.836000e+10</td>\n",
       "      <td>1.200000e+08</td>\n",
       "      <td>0</td>\n",
       "      <td>0</td>\n",
       "      <td>...</td>\n",
       "      <td>0</td>\n",
       "      <td>0</td>\n",
       "      <td>0</td>\n",
       "      <td>0</td>\n",
       "      <td>0</td>\n",
       "      <td>0</td>\n",
       "      <td>0</td>\n",
       "      <td>0</td>\n",
       "      <td>0</td>\n",
       "      <td>0</td>\n",
       "    </tr>\n",
       "    <tr>\n",
       "      <th>1</th>\n",
       "      <td>418</td>\n",
       "      <td>1382</td>\n",
       "      <td>4</td>\n",
       "      <td>1</td>\n",
       "      <td>1</td>\n",
       "      <td>1</td>\n",
       "      <td>1.300000e+11</td>\n",
       "      <td>3.110048e+08</td>\n",
       "      <td>0</td>\n",
       "      <td>0</td>\n",
       "      <td>...</td>\n",
       "      <td>0</td>\n",
       "      <td>0</td>\n",
       "      <td>0</td>\n",
       "      <td>0</td>\n",
       "      <td>0</td>\n",
       "      <td>0</td>\n",
       "      <td>0</td>\n",
       "      <td>0</td>\n",
       "      <td>0</td>\n",
       "      <td>0</td>\n",
       "    </tr>\n",
       "    <tr>\n",
       "      <th>2</th>\n",
       "      <td>57</td>\n",
       "      <td>1385</td>\n",
       "      <td>2</td>\n",
       "      <td>0</td>\n",
       "      <td>0</td>\n",
       "      <td>1</td>\n",
       "      <td>2.600000e+09</td>\n",
       "      <td>4.561404e+07</td>\n",
       "      <td>0</td>\n",
       "      <td>0</td>\n",
       "      <td>...</td>\n",
       "      <td>0</td>\n",
       "      <td>0</td>\n",
       "      <td>0</td>\n",
       "      <td>0</td>\n",
       "      <td>0</td>\n",
       "      <td>0</td>\n",
       "      <td>0</td>\n",
       "      <td>0</td>\n",
       "      <td>0</td>\n",
       "      <td>0</td>\n",
       "    </tr>\n",
       "    <tr>\n",
       "      <th>3</th>\n",
       "      <td>193</td>\n",
       "      <td>1371</td>\n",
       "      <td>3</td>\n",
       "      <td>0</td>\n",
       "      <td>0</td>\n",
       "      <td>1</td>\n",
       "      <td>2.300000e+10</td>\n",
       "      <td>1.191710e+08</td>\n",
       "      <td>0</td>\n",
       "      <td>0</td>\n",
       "      <td>...</td>\n",
       "      <td>0</td>\n",
       "      <td>0</td>\n",
       "      <td>0</td>\n",
       "      <td>0</td>\n",
       "      <td>0</td>\n",
       "      <td>0</td>\n",
       "      <td>0</td>\n",
       "      <td>0</td>\n",
       "      <td>0</td>\n",
       "      <td>0</td>\n",
       "    </tr>\n",
       "    <tr>\n",
       "      <th>4</th>\n",
       "      <td>62</td>\n",
       "      <td>1401</td>\n",
       "      <td>1</td>\n",
       "      <td>1</td>\n",
       "      <td>1</td>\n",
       "      <td>1</td>\n",
       "      <td>1.410000e+09</td>\n",
       "      <td>2.274194e+07</td>\n",
       "      <td>0</td>\n",
       "      <td>0</td>\n",
       "      <td>...</td>\n",
       "      <td>0</td>\n",
       "      <td>0</td>\n",
       "      <td>0</td>\n",
       "      <td>0</td>\n",
       "      <td>0</td>\n",
       "      <td>0</td>\n",
       "      <td>0</td>\n",
       "      <td>0</td>\n",
       "      <td>0</td>\n",
       "      <td>0</td>\n",
       "    </tr>\n",
       "  </tbody>\n",
       "</table>\n",
       "<p>5 rows × 344 columns</p>\n",
       "</div>"
      ],
      "text/plain": [
       "   Area  Construction  Room  Warehouse  Parking  Elevator         Price  \\\n",
       "0   153          1393     3          1        1         1  1.836000e+10   \n",
       "1   418          1382     4          1        1         1  1.300000e+11   \n",
       "2    57          1385     2          0        0         1  2.600000e+09   \n",
       "3   193          1371     3          0        0         1  2.300000e+10   \n",
       "4    62          1401     1          1        1         1  1.410000e+09   \n",
       "\n",
       "              m  آبشار تهران  آجودانیه  ...  کوی هفدهم شهریور  گاندی  گرگان  \\\n",
       "0  1.200000e+08            0         0  ...                 0      0      0   \n",
       "1  3.110048e+08            0         0  ...                 0      0      0   \n",
       "2  4.561404e+07            0         0  ...                 0      0      0   \n",
       "3  1.191710e+08            0         0  ...                 0      0      0   \n",
       "4  2.274194e+07            0         0  ...                 0      0      0   \n",
       "\n",
       "   گلاب دره  گلچین  گمرک  گیشا (کوی نصر)  یاخچی‌آباد  یافت‌آباد  یوسف‌آباد  \n",
       "0         0      0     0               0           0          0          0  \n",
       "1         0      0     0               0           0          0          0  \n",
       "2         0      0     0               0           0          0          0  \n",
       "3         0      0     0               0           0          0          0  \n",
       "4         0      0     0               0           0          0          0  \n",
       "\n",
       "[5 rows x 344 columns]"
      ]
     },
     "execution_count": 46,
     "metadata": {},
     "output_type": "execute_result"
    }
   ],
   "source": [
    "address_dummy = pd.get_dummies(Housing_data['Address'], drop_first=True)\n",
    "\n",
    "Housing_data_final = Housing_data.merge(address_dummy, left_index=True, right_index=True)\n",
    "\n",
    "Housing_data_final.drop(columns='Address', inplace=True)\n",
    "\n",
    "bool_columns = Housing_data_final.select_dtypes(include='bool').columns\n",
    "Housing_data_final[bool_columns] = Housing_data_final[bool_columns].astype(int)\n",
    "\n",
    "Housing_data_final.head()"
   ]
  },
  {
   "cell_type": "code",
   "execution_count": 47,
   "id": "4cb2adae",
   "metadata": {
    "execution": {
     "iopub.execute_input": "2024-07-26T07:54:49.129982Z",
     "iopub.status.busy": "2024-07-26T07:54:49.129175Z",
     "iopub.status.idle": "2024-07-26T07:54:49.214911Z",
     "shell.execute_reply": "2024-07-26T07:54:49.213972Z"
    },
    "papermill": {
     "duration": 0.129943,
     "end_time": "2024-07-26T07:54:49.217204",
     "exception": false,
     "start_time": "2024-07-26T07:54:49.087261",
     "status": "completed"
    },
    "tags": []
   },
   "outputs": [
    {
     "data": {
      "text/html": [
       "<div>\n",
       "<style scoped>\n",
       "    .dataframe tbody tr th:only-of-type {\n",
       "        vertical-align: middle;\n",
       "    }\n",
       "\n",
       "    .dataframe tbody tr th {\n",
       "        vertical-align: top;\n",
       "    }\n",
       "\n",
       "    .dataframe thead th {\n",
       "        text-align: right;\n",
       "    }\n",
       "</style>\n",
       "<table border=\"1\" class=\"dataframe\">\n",
       "  <thead>\n",
       "    <tr style=\"text-align: right;\">\n",
       "      <th></th>\n",
       "      <th>Area</th>\n",
       "      <th>Construction</th>\n",
       "      <th>Room</th>\n",
       "      <th>Warehouse</th>\n",
       "      <th>Parking</th>\n",
       "      <th>Elevator</th>\n",
       "      <th>Price</th>\n",
       "      <th>m</th>\n",
       "      <th>آبشار تهران</th>\n",
       "      <th>آجودانیه</th>\n",
       "      <th>...</th>\n",
       "      <th>کوی هفدهم شهریور</th>\n",
       "      <th>گاندی</th>\n",
       "      <th>گرگان</th>\n",
       "      <th>گلاب دره</th>\n",
       "      <th>گلچین</th>\n",
       "      <th>گمرک</th>\n",
       "      <th>گیشا (کوی نصر)</th>\n",
       "      <th>یاخچی‌آباد</th>\n",
       "      <th>یافت‌آباد</th>\n",
       "      <th>یوسف‌آباد</th>\n",
       "    </tr>\n",
       "  </thead>\n",
       "  <tbody>\n",
       "    <tr>\n",
       "      <th>0</th>\n",
       "      <td>153</td>\n",
       "      <td>10</td>\n",
       "      <td>3</td>\n",
       "      <td>1</td>\n",
       "      <td>1</td>\n",
       "      <td>1</td>\n",
       "      <td>1.836000e+10</td>\n",
       "      <td>1.200000e+08</td>\n",
       "      <td>0</td>\n",
       "      <td>0</td>\n",
       "      <td>...</td>\n",
       "      <td>0</td>\n",
       "      <td>0</td>\n",
       "      <td>0</td>\n",
       "      <td>0</td>\n",
       "      <td>0</td>\n",
       "      <td>0</td>\n",
       "      <td>0</td>\n",
       "      <td>0</td>\n",
       "      <td>0</td>\n",
       "      <td>0</td>\n",
       "    </tr>\n",
       "    <tr>\n",
       "      <th>1</th>\n",
       "      <td>418</td>\n",
       "      <td>21</td>\n",
       "      <td>4</td>\n",
       "      <td>1</td>\n",
       "      <td>1</td>\n",
       "      <td>1</td>\n",
       "      <td>1.300000e+11</td>\n",
       "      <td>3.110048e+08</td>\n",
       "      <td>0</td>\n",
       "      <td>0</td>\n",
       "      <td>...</td>\n",
       "      <td>0</td>\n",
       "      <td>0</td>\n",
       "      <td>0</td>\n",
       "      <td>0</td>\n",
       "      <td>0</td>\n",
       "      <td>0</td>\n",
       "      <td>0</td>\n",
       "      <td>0</td>\n",
       "      <td>0</td>\n",
       "      <td>0</td>\n",
       "    </tr>\n",
       "    <tr>\n",
       "      <th>2</th>\n",
       "      <td>57</td>\n",
       "      <td>18</td>\n",
       "      <td>2</td>\n",
       "      <td>0</td>\n",
       "      <td>0</td>\n",
       "      <td>1</td>\n",
       "      <td>2.600000e+09</td>\n",
       "      <td>4.561404e+07</td>\n",
       "      <td>0</td>\n",
       "      <td>0</td>\n",
       "      <td>...</td>\n",
       "      <td>0</td>\n",
       "      <td>0</td>\n",
       "      <td>0</td>\n",
       "      <td>0</td>\n",
       "      <td>0</td>\n",
       "      <td>0</td>\n",
       "      <td>0</td>\n",
       "      <td>0</td>\n",
       "      <td>0</td>\n",
       "      <td>0</td>\n",
       "    </tr>\n",
       "  </tbody>\n",
       "</table>\n",
       "<p>3 rows × 344 columns</p>\n",
       "</div>"
      ],
      "text/plain": [
       "   Area  Construction  Room  Warehouse  Parking  Elevator         Price  \\\n",
       "0   153            10     3          1        1         1  1.836000e+10   \n",
       "1   418            21     4          1        1         1  1.300000e+11   \n",
       "2    57            18     2          0        0         1  2.600000e+09   \n",
       "\n",
       "              m  آبشار تهران  آجودانیه  ...  کوی هفدهم شهریور  گاندی  گرگان  \\\n",
       "0  1.200000e+08            0         0  ...                 0      0      0   \n",
       "1  3.110048e+08            0         0  ...                 0      0      0   \n",
       "2  4.561404e+07            0         0  ...                 0      0      0   \n",
       "\n",
       "   گلاب دره  گلچین  گمرک  گیشا (کوی نصر)  یاخچی‌آباد  یافت‌آباد  یوسف‌آباد  \n",
       "0         0      0     0               0           0          0          0  \n",
       "1         0      0     0               0           0          0          0  \n",
       "2         0      0     0               0           0          0          0  \n",
       "\n",
       "[3 rows x 344 columns]"
      ]
     },
     "execution_count": 47,
     "metadata": {},
     "output_type": "execute_result"
    }
   ],
   "source": [
    "Housing_data_final['Construction'] = 1403 - Housing_data_final['Construction']\n",
    "Housing_data_final['Construction'] = Housing_data_final['Construction'].apply(lambda x: 30 if x > 30 else x)\n",
    "Housing_data_final.head(3)"
   ]
  },
  {
   "cell_type": "markdown",
   "id": "c174aa83",
   "metadata": {
    "papermill": {
     "duration": 0.039377,
     "end_time": "2024-07-26T07:54:49.299808",
     "exception": false,
     "start_time": "2024-07-26T07:54:49.260431",
     "status": "completed"
    },
    "tags": []
   },
   "source": [
    "Above, we calculate the age of the house up to today's date, and since houses over 30 years old are dilapidated, we consider the same 30 for numbers over 30.\n",
    "\n",
    "Also, by testing the model in different modes, we came to the conclusion that the combination of home facilities such as storage, parking and elevator together with the sum of these features gives better results."
   ]
  },
  {
   "cell_type": "code",
   "execution_count": 48,
   "id": "90e24023",
   "metadata": {
    "execution": {
     "iopub.execute_input": "2024-07-26T07:54:49.381350Z",
     "iopub.status.busy": "2024-07-26T07:54:49.381035Z",
     "iopub.status.idle": "2024-07-26T07:54:49.614641Z",
     "shell.execute_reply": "2024-07-26T07:54:49.613823Z"
    },
    "papermill": {
     "duration": 0.277226,
     "end_time": "2024-07-26T07:54:49.616988",
     "exception": false,
     "start_time": "2024-07-26T07:54:49.339762",
     "status": "completed"
    },
    "tags": []
   },
   "outputs": [],
   "source": [
    "Housing_data_final['facilities'] = Housing_data_final['Warehouse'] + Housing_data_final['Parking'] + Housing_data_final['Elevator']\n",
    "Housing_data_final.drop(columns=['Warehouse', 'Parking', 'Elevator'], inplace=True)"
   ]
  },
  {
   "cell_type": "markdown",
   "id": "86fd1c3c",
   "metadata": {
    "papermill": {
     "duration": 0.039623,
     "end_time": "2024-07-26T07:54:49.696697",
     "exception": false,
     "start_time": "2024-07-26T07:54:49.657074",
     "status": "completed"
    },
    "tags": []
   },
   "source": [
    "## Training Model"
   ]
  },
  {
   "cell_type": "code",
   "execution_count": 49,
   "id": "c118cc38",
   "metadata": {
    "execution": {
     "iopub.execute_input": "2024-07-26T07:54:49.776292Z",
     "iopub.status.busy": "2024-07-26T07:54:49.776010Z",
     "iopub.status.idle": "2024-07-26T07:54:50.555625Z",
     "shell.execute_reply": "2024-07-26T07:54:50.554458Z"
    },
    "papermill": {
     "duration": 0.822123,
     "end_time": "2024-07-26T07:54:50.557961",
     "exception": false,
     "start_time": "2024-07-26T07:54:49.735838",
     "status": "completed"
    },
    "tags": []
   },
   "outputs": [
    {
     "name": "stdout",
     "output_type": "stream",
     "text": [
      "shape of x train: (66774, 340)\n",
      "shape of y train: (66774,)\n",
      "shape of x test: (22258, 340)\n",
      "shape of y train: (22258,)\n"
     ]
    }
   ],
   "source": [
    "# Split train and test\n",
    "\n",
    "Data = Housing_data_final.drop(columns = ['Price','m'])\n",
    "Price = Housing_data_final['Price']\n",
    "x_train, x_test, y_train, y_test = train_test_split(Data,Price,test_size=0.25,train_size=0.75)\n",
    "print(f\"shape of x train: {x_train.shape}\")\n",
    "print(f\"shape of y train: {y_train.shape}\")\n",
    "print(f\"shape of x test: {x_test.shape}\")\n",
    "print(f\"shape of y train: {y_test.shape}\")"
   ]
  },
  {
   "cell_type": "markdown",
   "id": "f5a13eb3",
   "metadata": {
    "papermill": {
     "duration": 0.039322,
     "end_time": "2024-07-26T07:54:50.637737",
     "exception": false,
     "start_time": "2024-07-26T07:54:50.598415",
     "status": "completed"
    },
    "tags": []
   },
   "source": [
    "In this section, we need to check whether the data is normal or not. If necessary, normalize the training data. This normalization should only be done on feature data, not price (which is the target data)."
   ]
  },
  {
   "cell_type": "code",
   "execution_count": 50,
   "id": "b7928c54",
   "metadata": {
    "execution": {
     "iopub.execute_input": "2024-07-26T07:54:50.718745Z",
     "iopub.status.busy": "2024-07-26T07:54:50.718371Z",
     "iopub.status.idle": "2024-07-26T07:54:51.318912Z",
     "shell.execute_reply": "2024-07-26T07:54:51.318045Z"
    },
    "papermill": {
     "duration": 0.644063,
     "end_time": "2024-07-26T07:54:51.321239",
     "exception": false,
     "start_time": "2024-07-26T07:54:50.677176",
     "status": "completed"
    },
    "tags": []
   },
   "outputs": [],
   "source": [
    "# Normalization\n",
    "\n",
    "scaler = StandardScaler()\n",
    "\n",
    "X_train_scaled = scaler.fit_transform(x_train)\n",
    "X_test_scaled = scaler.transform(x_test)"
   ]
  },
  {
   "cell_type": "markdown",
   "id": "e22bdc68",
   "metadata": {
    "papermill": {
     "duration": 0.040213,
     "end_time": "2024-07-26T07:54:51.401450",
     "exception": false,
     "start_time": "2024-07-26T07:54:51.361237",
     "status": "completed"
    },
    "tags": []
   },
   "source": [
    "Here two KNN and Random forest models are applied to the data set with the following parameters to select the best model."
   ]
  },
  {
   "cell_type": "code",
   "execution_count": 51,
   "id": "7737366c",
   "metadata": {
    "execution": {
     "iopub.execute_input": "2024-07-26T07:54:51.483111Z",
     "iopub.status.busy": "2024-07-26T07:54:51.482754Z",
     "iopub.status.idle": "2024-07-26T07:54:51.491936Z",
     "shell.execute_reply": "2024-07-26T07:54:51.491025Z"
    },
    "papermill": {
     "duration": 0.052327,
     "end_time": "2024-07-26T07:54:51.494005",
     "exception": false,
     "start_time": "2024-07-26T07:54:51.441678",
     "status": "completed"
    },
    "tags": []
   },
   "outputs": [],
   "source": [
    "def find_Parameters__(model, parameters):\n",
    "\n",
    "    cv = KFold(n_splits=10, shuffle=True, random_state=1)\n",
    "    grid_search = GridSearchCV(estimator=model, param_grid=parameters, n_jobs=1, cv=cv)\n",
    "    grid_result = grid_search.fit(X_train_scaled, y_train)\n",
    "\n",
    "    best_params = grid_result.best_params_\n",
    "\n",
    "    model = model.set_params(**best_params)\n",
    "    accuracies = cross_val_score(estimator = model, X = X_train_scaled, y = y_train, cv = cv, scoring='r2')\n",
    "\n",
    "    Accuracy_CrossVal = \"{:.2f} %\".format(accuracies.mean()*100)\n",
    "\n",
    "    model.fit(X_train_scaled, y_train)\n",
    "    y_pred = model.predict(X_test_scaled)\n",
    "\n",
    "    # Calculate performance metrics\n",
    "    train_score = model.score(X_train_scaled, y_train)\n",
    "    test_score = model.score(X_test_scaled, y_test)\n",
    "    rmse = np.sqrt(mean_squared_error(y_test, y_pred))\n",
    "\n",
    "\n",
    "    model_name = str(model).split('(')[0]\n",
    "        \n",
    "    print(f\"The best parameters for {model_name} model is: {best_params}\")\n",
    "    print(\"--\" * 10)\n",
    "    print(f\"(R2 score) in the training set is {train_score:0.2%} for {model_name} model.\")\n",
    "    print(f\"(R2 score) in the testing set is {test_score:0.2%} for {model_name} model.\")\n",
    "    print(f\"RMSE is {rmse:,} for {model_name} model.\")\n",
    "    print(\"--\" * 10)\n",
    "    return train_score, test_score, rmse, Accuracy_CrossVal"
   ]
  },
  {
   "cell_type": "code",
   "execution_count": 52,
   "id": "a4a1bb96",
   "metadata": {
    "execution": {
     "iopub.execute_input": "2024-07-26T07:54:51.575520Z",
     "iopub.status.busy": "2024-07-26T07:54:51.575186Z",
     "iopub.status.idle": "2024-07-26T09:55:54.508584Z",
     "shell.execute_reply": "2024-07-26T09:55:54.507634Z"
    },
    "papermill": {
     "duration": 7263.01794,
     "end_time": "2024-07-26T09:55:54.552140",
     "exception": false,
     "start_time": "2024-07-26T07:54:51.534200",
     "status": "completed"
    },
    "tags": []
   },
   "outputs": [
    {
     "name": "stdout",
     "output_type": "stream",
     "text": [
      "The best parameters for RandomForestRegressor model is: {'min_samples_leaf': 2, 'min_samples_split': 2}\n",
      "--------------------\n",
      "(R2 score) in the training set is 94.39% for RandomForestRegressor model.\n",
      "(R2 score) in the testing set is 85.66% for RandomForestRegressor model.\n",
      "RMSE is 8,420,608,246.407034 for RandomForestRegressor model.\n",
      "--------------------\n"
     ]
    }
   ],
   "source": [
    "rfr = RandomForestRegressor(random_state = 1, n_jobs = -1)\n",
    "param_rfr = {'min_samples_split': [2, 3, 4, 5],\n",
    "            'min_samples_leaf': [1, 2, 3]}\n",
    "\n",
    "rfr_train_score, rfr_test_score, rfr_RMSE , Accuracy_CrossVal= find_Parameters__(rfr, param_rfr)"
   ]
  },
  {
   "cell_type": "code",
   "execution_count": 53,
   "id": "a6ce5cac",
   "metadata": {
    "execution": {
     "iopub.execute_input": "2024-07-26T09:55:54.634450Z",
     "iopub.status.busy": "2024-07-26T09:55:54.633728Z",
     "iopub.status.idle": "2024-07-26T09:59:36.952515Z",
     "shell.execute_reply": "2024-07-26T09:59:36.951675Z"
    },
    "papermill": {
     "duration": 222.395389,
     "end_time": "2024-07-26T09:59:36.988008",
     "exception": false,
     "start_time": "2024-07-26T09:55:54.592619",
     "status": "completed"
    },
    "tags": []
   },
   "outputs": [
    {
     "name": "stdout",
     "output_type": "stream",
     "text": [
      "The best parameters for KNeighborsRegressor model is: {'n_neighbors': 5}\n",
      "--------------------\n",
      "(R2 score) in the training set is 87.70% for KNeighborsRegressor model.\n",
      "(R2 score) in the testing set is 86.06% for KNeighborsRegressor model.\n",
      "RMSE is 8,300,385,398.509746 for KNeighborsRegressor model.\n",
      "--------------------\n"
     ]
    }
   ],
   "source": [
    "knr = KNeighborsRegressor(n_jobs = 1)\n",
    "param_knr = {'n_neighbors': [5, 10, 15, 20]}\n",
    "\n",
    "knr_train_score, knr_test_score, knr_RMSE, knr_Accuracy_crossVal = find_Parameters__(knr, param_knr)"
   ]
  },
  {
   "cell_type": "markdown",
   "id": "2440271c",
   "metadata": {
    "papermill": {
     "duration": 0.039056,
     "end_time": "2024-07-26T09:59:37.066919",
     "exception": false,
     "start_time": "2024-07-26T09:59:37.027863",
     "status": "completed"
    },
    "tags": []
   },
   "source": [
    "According to the results obtained in the analysis of  KNN and Random forest models, it can be seen that the Random forest model has shown higher accuracy in the in-sample and out-of-sample data."
   ]
  },
  {
   "cell_type": "code",
   "execution_count": 54,
   "id": "4b83d90a",
   "metadata": {
    "execution": {
     "iopub.execute_input": "2024-07-26T09:59:37.147884Z",
     "iopub.status.busy": "2024-07-26T09:59:37.147327Z",
     "iopub.status.idle": "2024-07-26T10:02:21.943393Z",
     "shell.execute_reply": "2024-07-26T10:02:21.942465Z"
    },
    "papermill": {
     "duration": 164.882666,
     "end_time": "2024-07-26T10:02:21.988871",
     "exception": false,
     "start_time": "2024-07-26T09:59:37.106205",
     "status": "completed"
    },
    "tags": []
   },
   "outputs": [
    {
     "name": "stdout",
     "output_type": "stream",
     "text": [
      "Area                      0.858209\n",
      "Construction              0.032976\n",
      "الهیه                     0.017843\n",
      "زعفرانیه                  0.013970\n",
      "کامرانیه                  0.008732\n",
      "ولنجک                     0.006854\n",
      "Room                      0.006038\n",
      "نیاوران                   0.005272\n",
      "سعادت‌آباد                0.005133\n",
      "محمودیه                   0.003472\n",
      "facilities                0.002971\n",
      "جنت‌آباد جنوبی            0.002849\n",
      "قیطریه                    0.002794\n",
      "فرمانیه                   0.002727\n",
      "چیتگر                     0.002359\n",
      "دریاچه شهدای خلیج فارس    0.002250\n",
      "میرداماد                  0.001987\n",
      "اقدسیه                    0.001720\n",
      "دروس                      0.001603\n",
      "بهارستان                  0.001384\n",
      "dtype: float64\n"
     ]
    }
   ],
   "source": [
    "best_param = {'min_samples_leaf': 1, 'min_samples_split': 5}\n",
    "\n",
    "best_rf = RandomForestRegressor(**best_param, random_state=42)\n",
    "best_rf.fit(X_train_scaled, y_train)\n",
    "\n",
    "# Feature importance\n",
    "feature_importance = pd.Series(best_rf.feature_importances_, index=x_train.columns).sort_values(ascending=False)\n",
    "\n",
    "print(feature_importance[:20])"
   ]
  },
  {
   "cell_type": "markdown",
   "id": "bff66d9c",
   "metadata": {
    "papermill": {
     "duration": 0.038919,
     "end_time": "2024-07-26T10:02:22.067137",
     "exception": false,
     "start_time": "2024-07-26T10:02:22.028218",
     "status": "completed"
    },
    "tags": []
   },
   "source": [
    "One of the capabilities of the Random forest model is that it calculates its importance factor in the model for each feature of the data set. In the above code snippet, these coefficients are calculated for the obtained model and displayed in order.\n",
    "\n",
    "As can be seen from the results above, the factors influencing the price of a house are as follows:\n",
    "- The size of the house\n",
    "- The age of the house\n",
    "- Neighborhoods (Elahia, Velanjak, Niavaran and Zafaranieh)\n",
    "- Number of rooms\n",
    "- Other neighborhoods\n",
    "- ..."
   ]
  }
 ],
 "metadata": {
  "kaggle": {
   "accelerator": "nvidiaTeslaT4",
   "dataSources": [
    {
     "datasetId": 3005326,
     "sourceId": 5170775,
     "sourceType": "datasetVersion"
    }
   ],
   "dockerImageVersionId": 30747,
   "isGpuEnabled": true,
   "isInternetEnabled": true,
   "language": "python",
   "sourceType": "notebook"
  },
  "kernelspec": {
   "display_name": "Python 3",
   "language": "python",
   "name": "python3"
  },
  "language_info": {
   "codemirror_mode": {
    "name": "ipython",
    "version": 3
   },
   "file_extension": ".py",
   "mimetype": "text/x-python",
   "name": "python",
   "nbconvert_exporter": "python",
   "pygments_lexer": "ipython3",
   "version": "3.10.13"
  },
  "papermill": {
   "default_parameters": {},
   "duration": 8056.955792,
   "end_time": "2024-07-26T10:02:24.448954",
   "environment_variables": {},
   "exception": null,
   "input_path": "__notebook__.ipynb",
   "output_path": "__notebook__.ipynb",
   "parameters": {},
   "start_time": "2024-07-26T07:48:07.493162",
   "version": "2.5.0"
  }
 },
 "nbformat": 4,
 "nbformat_minor": 5
}
